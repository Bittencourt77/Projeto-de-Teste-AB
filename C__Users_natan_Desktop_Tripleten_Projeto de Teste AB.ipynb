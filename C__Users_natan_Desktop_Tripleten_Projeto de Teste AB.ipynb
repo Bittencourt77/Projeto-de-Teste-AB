{
 "cells": [
  {
   "cell_type": "markdown",
   "metadata": {},
   "source": [
    "Olá Natan! Sou Anilton e estarei avaliando seu projeto. \n",
    "\n",
    "Pontos que devem ser corrigidos:\n",
    "<div class=\"alert alert-block alert-danger\">\n",
    "    \n",
    "<b>Comentário do Tutor</b> <a class=\"tocSkip\"></a>\n",
    "    \n",
    "    \n",
    "- Faltou avaliar as premissas do teste. Veja que existem várias: datas de início e fim, público-alvo, tamanho amostral. Essas premissas foram respeitadas? Qual o impacto de qualidade do experimento cada uma das premissas podem gerar se forem violadas? \n",
    "- Faltou avaliar a qualidade das informações. Veja que temos dois experimentos ocorrendo simultâneamente. O que você vai fazer para evitar que este segundo experimento polua o nosso experimento (recommender system). Dica: avalie a proporção de amostras do segundo experimento por grupo A e B do experimento em questão (recommender system). Existe diferença estatísticamente significativa? \n",
    "- é importante que se remova os usuários que estão presentes em ambos os grupos A e B.\n",
    "- Faça uma tabela resumindo cada premissa e se foi respeitada ou violada.\n",
    "- Faltou o plot do funil\n",
    "- Faltou avaliar outras métricas com testes estatístico como a receita por exemplo. Você avaliou apenas a conversão. Lembre-se que só se pode avaliar as métricas em até 14 dias da conversão.\n",
    "</div>"
   ]
  },
  {
   "cell_type": "markdown",
   "metadata": {},
   "source": [
    "Natan, ainda temos algumas pendências.\n",
    "\n",
    "<div class=\"alert alert-block alert-danger\">\n",
    "    \n",
    "<b>Comentário do Tutor</b> <a class=\"tocSkip\"></a>\n",
    "    \n",
    "- Faltou avaliar as premissas do teste. Veja que existem várias: datas de início e fim, público-alvo, tamanho amostral. Essas premissas foram respeitadas? Qual o impacto de qualidade do experimento cada uma das premissas podem gerar se forem violadas? \n",
    "    - Quando o experimento começa e termina? Quais foram as datas de início estipuladas\n",
    "    - Qual tamanho amostral alcançado e qual foi o esperado? \n",
    "    - Qual a proporção de UE alcançada e qual foi a esperada? \n",
    "    - Faça uma tabela resumindo cada premissa e se foi respeitada ou violada.\n",
    "- Faltou avaliar a qualidade das informações. Veja que temos dois experimentos ocorrendo simultâneamente. O que você vai fazer para evitar que este segundo experimento polua o nosso experimento (recommender system). Dica: avalie a proporção de amostras do segundo experimento por grupo A e B do experimento em questão (recommender system). Existe diferença estatísticamente significativa? \n",
    "    - O que você precisa fazer agora é analisar os usuários que fazem parte de `interface_eu_test` **E** do `recommender_system_test`. O objetivo é avaliar o quanto os usuários de `interface_eu_test` poluem o nosso teste. Tendo isso em vista, você vai avaliar as proporções nos grupos A e B do `recommender_system_test` de usuários que estão em ambos `interface_eu_test` **E** `recommender_system_test`.\n",
    "    - Se a diferença de proporções for significativa, então deve-se remover estes clientes que participam deste segundo experimento. Caso contrário, não é preciso removê-los.\n",
    "- É importante que se remova os usuários que estão presentes em ambos os grupos A e B.\n",
    "- É importante avaliar o impacto dos eventos de marketing no experimento. Foi uma boa escolha esse período para executar o experimento? \n",
    "- Faltou avaliar outras métricas com testes estatístico como a receita por exemplo. Você avaliou apenas a conversão. Lembre-se que só se pode avaliar as métricas em até 14 dias da conversão\n",
    "    \n",
    "</div>"
   ]
  },
  {
   "cell_type": "markdown",
   "metadata": {},
   "source": [
    "\n",
    "<div class=\"alert alert-block alert-danger\">\n",
    "\n",
    "<b>Comentário do Tutor: </b> <a class=\"tocSkip\"></a>\n",
    "    \n",
    "Restante dos meus comentários está abaixo com os ajustes a serem feitos.\n",
    "</div>"
   ]
  },
  {
   "cell_type": "markdown",
   "metadata": {},
   "source": [
    "<div class=\"alert alert-block alert-success\">\n",
    "<b> Comentário do Tutor: </b> <a class=\"tocSkip\"></a>\n",
    "    \n",
    "- correções feitas!\n",
    "</div>"
   ]
  },
  {
   "cell_type": "markdown",
   "metadata": {},
   "source": [
    "# Projeto de Teste A/B"
   ]
  },
  {
   "cell_type": "markdown",
   "metadata": {},
   "source": [
    "**Importação de Bibliotecas**\n"
   ]
  },
  {
   "cell_type": "code",
   "execution_count": 1,
   "metadata": {},
   "outputs": [],
   "source": [
    "import pandas as pd\n",
    "import numpy as np\n",
    "import matplotlib.pyplot as plt\n",
    "import seaborn as sns\n",
    "from scipy import stats\n",
    "from datetime import datetime"
   ]
  },
  {
   "cell_type": "markdown",
   "metadata": {},
   "source": [
    "**Carregamento e Exploração dos Dados**"
   ]
  },
  {
   "cell_type": "code",
   "execution_count": 2,
   "metadata": {},
   "outputs": [],
   "source": [
    "\n",
    "# Carregar os arquivos de participantes\n",
    "participants_df = pd.read_csv('/datasets/final_ab_participants_upd_us.csv')\n",
    "\n",
    "# Carregar o arquivo de eventos de marketing\n",
    "events_df = pd.read_csv('/datasets/ab_project_marketing_events_us.csv')\n",
    "\n",
    "# Carregar o arquivo de novos usuários\n",
    "new_users_df = pd.read_csv('/datasets/final_ab_new_users_upd_us.csv')\n",
    "\n",
    "# Carregar o arquivo de eventos dos novos usuários\n",
    "events_log_df = pd.read_csv('/datasets/final_ab_events_upd_us.csv')\n"
   ]
  },
  {
   "cell_type": "code",
   "execution_count": 3,
   "metadata": {},
   "outputs": [
    {
     "name": "stdout",
     "output_type": "stream",
     "text": [
      "                           name                   regions    start_dt  \\\n",
      "0      Christmas&New Year Promo             EU, N.America  2020-12-25   \n",
      "1  St. Valentine's Day Giveaway  EU, CIS, APAC, N.America  2020-02-14   \n",
      "2        St. Patric's Day Promo             EU, N.America  2020-03-17   \n",
      "3                  Easter Promo  EU, CIS, APAC, N.America  2020-04-12   \n",
      "4             4th of July Promo                 N.America  2020-07-04   \n",
      "\n",
      "    finish_dt  \n",
      "0  2021-01-03  \n",
      "1  2020-02-16  \n",
      "2  2020-03-19  \n",
      "3  2020-04-19  \n",
      "4  2020-07-11  \n",
      "            user_id  first_date     region   device\n",
      "0  D72A72121175D8BE  2020-12-07         EU       PC\n",
      "1  F1C668619DFE6E65  2020-12-07  N.America  Android\n",
      "2  2E1BF1D4C37EA01F  2020-12-07         EU       PC\n",
      "3  50734A22C0C63768  2020-12-07         EU   iPhone\n",
      "4  E1BDDCE0DAFA2679  2020-12-07  N.America   iPhone\n",
      "            user_id             event_dt event_name  details\n",
      "0  E1BDDCE0DAFA2679  2020-12-07 20:22:03   purchase    99.99\n",
      "1  7B6452F081F49504  2020-12-07 09:22:53   purchase     9.99\n",
      "2  9CD9F34546DF254C  2020-12-07 12:59:29   purchase     4.99\n",
      "3  96F27A054B191457  2020-12-07 04:02:40   purchase     4.99\n",
      "4  1FD7660FDF94CA1F  2020-12-07 10:15:09   purchase     4.99\n",
      "            user_id group                  ab_test\n",
      "0  D1ABA3E2887B6A73     A  recommender_system_test\n",
      "1  A7A3664BD6242119     A  recommender_system_test\n",
      "2  DABC14FDDFADD29E     A  recommender_system_test\n",
      "3  04988C5DF189632E     A  recommender_system_test\n",
      "4  4FF2998A348C484F     A  recommender_system_test\n"
     ]
    }
   ],
   "source": [
    "# Visualização inicial dos dados\n",
    "print(events_df.head())\n",
    "print(new_users_df.head())\n",
    "print(events_log_df.head())\n",
    "print(participants_df.head())\n"
   ]
  },
  {
   "cell_type": "code",
   "execution_count": 4,
   "metadata": {},
   "outputs": [
    {
     "name": "stdout",
     "output_type": "stream",
     "text": [
      "<class 'pandas.core.frame.DataFrame'>\n",
      "RangeIndex: 14 entries, 0 to 13\n",
      "Data columns (total 4 columns):\n",
      " #   Column     Non-Null Count  Dtype \n",
      "---  ------     --------------  ----- \n",
      " 0   name       14 non-null     object\n",
      " 1   regions    14 non-null     object\n",
      " 2   start_dt   14 non-null     object\n",
      " 3   finish_dt  14 non-null     object\n",
      "dtypes: object(4)\n",
      "memory usage: 576.0+ bytes\n",
      "None\n",
      "<class 'pandas.core.frame.DataFrame'>\n",
      "RangeIndex: 58703 entries, 0 to 58702\n",
      "Data columns (total 4 columns):\n",
      " #   Column      Non-Null Count  Dtype \n",
      "---  ------      --------------  ----- \n",
      " 0   user_id     58703 non-null  object\n",
      " 1   first_date  58703 non-null  object\n",
      " 2   region      58703 non-null  object\n",
      " 3   device      58703 non-null  object\n",
      "dtypes: object(4)\n",
      "memory usage: 1.8+ MB\n",
      "None\n",
      "<class 'pandas.core.frame.DataFrame'>\n",
      "RangeIndex: 423761 entries, 0 to 423760\n",
      "Data columns (total 4 columns):\n",
      " #   Column      Non-Null Count   Dtype  \n",
      "---  ------      --------------   -----  \n",
      " 0   user_id     423761 non-null  object \n",
      " 1   event_dt    423761 non-null  object \n",
      " 2   event_name  423761 non-null  object \n",
      " 3   details     60314 non-null   float64\n",
      "dtypes: float64(1), object(3)\n",
      "memory usage: 12.9+ MB\n",
      "None\n",
      "<class 'pandas.core.frame.DataFrame'>\n",
      "RangeIndex: 14525 entries, 0 to 14524\n",
      "Data columns (total 3 columns):\n",
      " #   Column   Non-Null Count  Dtype \n",
      "---  ------   --------------  ----- \n",
      " 0   user_id  14525 non-null  object\n",
      " 1   group    14525 non-null  object\n",
      " 2   ab_test  14525 non-null  object\n",
      "dtypes: object(3)\n",
      "memory usage: 340.6+ KB\n",
      "None\n"
     ]
    }
   ],
   "source": [
    "# Verificação dos tipos de dados e valores ausentes\n",
    "print(events_df.info())\n",
    "print(new_users_df.info())\n",
    "print(events_log_df.info())\n",
    "print(participants_df.info())"
   ]
  },
  {
   "cell_type": "code",
   "execution_count": 5,
   "metadata": {},
   "outputs": [
    {
     "name": "stdout",
     "output_type": "stream",
     "text": [
      "0\n",
      "0\n",
      "0\n",
      "0\n"
     ]
    }
   ],
   "source": [
    "# Verificação de duplicatas\n",
    "print(events_df.duplicated().sum())\n",
    "print(new_users_df.duplicated().sum())\n",
    "print(events_log_df.duplicated().sum())\n",
    "print(participants_df.duplicated().sum())"
   ]
  },
  {
   "cell_type": "code",
   "execution_count": 6,
   "metadata": {},
   "outputs": [],
   "source": [
    "# Pré-processamento e Limpeza dos Dados\n",
    "# Conversão das colunas de datas para o formato datetime\n",
    "new_users_df['first_date'] = pd.to_datetime(new_users_df['first_date'])\n",
    "events_log_df['event_dt'] = pd.to_datetime(events_log_df['event_dt'])\n",
    "events_df['start_dt'] = pd.to_datetime(events_df['start_dt'])\n",
    "events_df['finish_dt'] = pd.to_datetime(events_df['finish_dt'])\n",
    "\n",
    "\n",
    "# Exclusão de usuários que estão em ambos os grupos\n",
    "final_df = pd.merge(new_users_df, participants_df, on='user_id')\n",
    "final_df = final_df[~final_df.duplicated(subset=['user_id', 'group'])]"
   ]
  },
  {
   "cell_type": "code",
   "execution_count": 7,
   "metadata": {},
   "outputs": [
    {
     "name": "stdout",
     "output_type": "stream",
     "text": [
      "Resultados esperados:  {'product_page': 0.12, 'product_cart': 0.11, 'purchase': 0.1}\n",
      "Resultados reais:  {'product_page': 1.8236734693877552, 'product_cart': 0.8598639455782313, 'purchase': 0.8734693877551021}\n",
      "product_page: Real = 1.8237, Esperado = 0.1200\n",
      "O evento product_page atingiu ou superou a expectativa.\n",
      "product_cart: Real = 0.8599, Esperado = 0.1100\n",
      "O evento product_cart atingiu ou superou a expectativa.\n",
      "purchase: Real = 0.8735, Esperado = 0.1000\n",
      "O evento purchase atingiu ou superou a expectativa.\n"
     ]
    }
   ],
   "source": [
    "# Filtrar os usuários que participaram do teste 'recommender_system_test'\n",
    "experiment_users = participants_df[participants_df['ab_test'] == 'recommender_system_test']\n",
    "\n",
    "# Filtrar os eventos que ocorreram durante o período do experimento\n",
    "experiment_events = events_log_df[\n",
    "    (events_log_df['user_id'].isin(experiment_users['user_id'])) & \n",
    "    (events_log_df['event_dt'] >= datetime(2020, 12, 7)) & \n",
    "    (events_log_df['event_dt'] <= datetime(2021, 1, 1))\n",
    "]\n",
    "\n",
    "# Filtrar os eventos de marketing que ocorreram durante o período do experimento\n",
    "relevant_marketing_events = events_df[\n",
    "    (events_df['start_dt'] >= datetime(2020, 12, 7)) & \n",
    "    (events_df['finish_dt'] <= datetime(2021, 1, 1))\n",
    "]\n",
    "\n",
    "# Calcular o impacto dos eventos de marketing\n",
    "event_counts = experiment_events['event_name'].value_counts()\n",
    "\n",
    "# Número total de participantes\n",
    "total_participants = len(experiment_users)\n",
    "\n",
    "# Calcular os resultados reais em termos de proporção dos usuários que interagiram\n",
    "actual_results = {\n",
    "    'product_page': event_counts.get('product_page', 0) / total_participants,\n",
    "    'product_cart': event_counts.get('product_cart', 0) / total_participants,\n",
    "    'purchase': event_counts.get('purchase', 0) / total_participants\n",
    "}\n",
    "\n",
    "# Resultados esperados\n",
    "expected_results = {'product_page': 0.12, 'product_cart': 0.11, 'purchase': 0.10}\n",
    "\n",
    "# Exibir os resultados\n",
    "print(\"Resultados esperados: \", expected_results)\n",
    "print(\"Resultados reais: \", actual_results)\n",
    "\n",
    "# Verificação da significância dos eventos de marketing\n",
    "for event in actual_results:\n",
    "    print(f\"{event}: Real = {actual_results[event]:.4f}, Esperado = {expected_results[event]:.4f}\")\n",
    "    if actual_results[event] >= expected_results[event]:\n",
    "        print(f\"O evento {event} atingiu ou superou a expectativa.\")\n",
    "    else:\n",
    "        print(f\"O evento {event} não atingiu a expectativa.\")\n"
   ]
  },
  {
   "cell_type": "code",
   "execution_count": 8,
   "metadata": {},
   "outputs": [
    {
     "name": "stdout",
     "output_type": "stream",
     "text": [
      "Tamanho amostral executado/esperado: 3675 / 6000\n",
      "Tamanho amostral não chegou no tamanho necessário.\n"
     ]
    }
   ],
   "source": [
    "tamanho_amostral_esperado = 6000\n",
    "tamanho_amostra_executado = len(experiment_users)\n",
    "print(f\"Tamanho amostral executado/esperado: {tamanho_amostra_executado} / {tamanho_amostral_esperado}\")\n",
    "if tamanho_amostra_executado < tamanho_amostral_esperado:\n",
    "    print(\"Tamanho amostral não chegou no tamanho necessário.\")\n",
    "else:\n",
    "    print(\"Tamanho amostral não chegou no tamanho necessário.\")\n",
    "    "
   ]
  },
  {
   "cell_type": "code",
   "execution_count": 9,
   "metadata": {},
   "outputs": [
    {
     "name": "stdout",
     "output_type": "stream",
     "text": [
      "Data de início executado/esperado: 2020-12-07 00:00:00 / 2020-12-07 00:00:00\n",
      "Data de início respeitada\n"
     ]
    }
   ],
   "source": [
    "experimento_users_full = pd.merge(left = experiment_users, right = new_users_df, on = 'user_id')\n",
    "data_primeiro_usuário = experimento_users_full['first_date'].min()\n",
    "data_inicio_experimento = pd.to_datetime(\"12-07-2020\")\n",
    "\n",
    "print(f\"Data de início executado/esperado: {data_primeiro_usuário} / {data_inicio_experimento}\")\n",
    "if data_primeiro_usuário != data_inicio_experimento:\n",
    "    print(\"Data de ínicio não respeitada\")\n",
    "else:\n",
    "    print(\"Data de início respeitada\")"
   ]
  },
  {
   "cell_type": "code",
   "execution_count": 11,
   "metadata": {
    "scrolled": true
   },
   "outputs": [
    {
     "name": "stdout",
     "output_type": "stream",
     "text": [
      "Data de fim executado/esperado: 2020-12-21 00:00:00 / 2020-12-21 00:00:00\n",
      "Data de fim respeitada\n"
     ]
    }
   ],
   "source": [
    "data_ultimo_usuário = experimento_users_full['first_date'].max()\n",
    "data_fim_experimento = pd.to_datetime(\"12-21-2020\")  # Exemplo de data de fim esperada\n",
    "\n",
    "print(f\"Data de fim executado/esperado: {data_ultimo_usuário} / {data_fim_experimento}\")\n",
    "if data_ultimo_usuário != data_fim_experimento:\n",
    "    print(\"Data de fim não respeitada\")\n",
    "else:\n",
    "    print(\"Data de fim respeitada\")\n"
   ]
  },
  {
   "cell_type": "code",
   "execution_count": 13,
   "metadata": {},
   "outputs": [
    {
     "name": "stdout",
     "output_type": "stream",
     "text": [
      "Index(['user_id', 'group', 'ab_test'], dtype='object')\n"
     ]
    }
   ],
   "source": [
    "print(experiment_users.columns)\n"
   ]
  },
  {
   "cell_type": "code",
   "execution_count": 14,
   "metadata": {},
   "outputs": [
    {
     "name": "stdout",
     "output_type": "stream",
     "text": [
      "Proporção de usuários UE executada/esperada: 0.747482993197279 / 0.5\n",
      "Proporção de usuários UE não respeitada.\n"
     ]
    }
   ],
   "source": [
    "proporcao_ue_esperada = 0.5  # Exemplo de valor esperado\n",
    "proporcao_ue_executada = (experiment_users['group'] == 'A').mean()\n",
    "\n",
    "print(f\"Proporção de usuários UE executada/esperada: {proporcao_ue_executada} / {proporcao_ue_esperada}\")\n",
    "if proporcao_ue_executada != proporcao_ue_esperada:\n",
    "    print(\"Proporção de usuários UE não respeitada.\")\n",
    "else:\n",
    "    print(\"Proporção de usuários UE respeitada.\")\n"
   ]
  },
  {
   "cell_type": "code",
   "execution_count": null,
   "metadata": {},
   "outputs": [],
   "source": [
    "print(participants_df['ab_test'].unique())\n"
   ]
  },
  {
   "cell_type": "code",
   "execution_count": null,
   "metadata": {},
   "outputs": [],
   "source": [
    "# Atualizar o nome do teste para 'interface_eu_test'\n",
    "interface_eu_test_df = participants_df[participants_df['ab_test'] == 'interface_eu_test']\n",
    "interface_eu_test_group_dist = interface_eu_test_df['group'].value_counts(normalize=True)\n",
    "\n",
    "# Manter a distribuição de grupos para o experimento de recomendação\n",
    "recommender_experiment_group_dist = final_df['group'].value_counts(normalize=True)\n",
    "\n",
    "print(\"Distribuição de grupos no segundo experimento (interface_eu_test):\")\n",
    "print(interface_eu_test_group_dist)\n",
    "\n",
    "print(\"\\nDistribuição de grupos no experimento de recomendação:\")\n",
    "print(recommender_experiment_group_dist)\n"
   ]
  },
  {
   "cell_type": "code",
   "execution_count": null,
   "metadata": {},
   "outputs": [],
   "source": [
    "# Identificar os usuários presentes em ambos os experimentos\n",
    "common_users = pd.merge(participants_df[participants_df['ab_test'] == 'interface_eu_test'], \n",
    "                        participants_df[participants_df['ab_test'] == 'recommender_system_test'], \n",
    "                        on='user_id')\n",
    "\n",
    "# Remover esses usuários do experimento de recomendação\n",
    "cleaned_recommender_df = participants_df[participants_df['ab_test'] == 'recommender_system_test']\n",
    "cleaned_recommender_df = cleaned_recommender_df[~cleaned_recommender_df['user_id'].isin(common_users['user_id'])]\n",
    "\n",
    "# Verificar a distribuição dos grupos após a limpeza\n",
    "cleaned_recommender_group_dist = cleaned_recommender_df['group'].value_counts(normalize=True)\n",
    "\n",
    "print(\"Distribuição de grupos no experimento de recomendação (após remoção de usuários duplicados):\")\n",
    "print(cleaned_recommender_group_dist)\n"
   ]
  },
  {
   "cell_type": "code",
   "execution_count": null,
   "metadata": {},
   "outputs": [],
   "source": [
    "\n",
    "from scipy import stats\n",
    "\n",
    "# Contagem das amostras por grupo no experimento de recomendação\n",
    "contingency_table = pd.crosstab(cleaned_recommender_df['group'], cleaned_recommender_df['ab_test'])\n",
    "print(\"Tabela de contingência:\")\n",
    "print(contingency_table)\n",
    "\n",
    "# Verificar se todas as células têm um número suficiente de observações\n",
    "print(\"Número de observações por célula:\")\n",
    "print(contingency_table.apply(lambda x: x > 5).all())\n",
    "\n",
    "# Realizar o teste qui-quadrado\n",
    "chi2, p, _, _ = stats.chi2_contingency(contingency_table)\n",
    "print(\"\\nEstatística do teste qui-quadrado:\", chi2)\n",
    "print(\"Valor-p do teste:\", p)\n",
    "\n",
    "# Avaliar se a diferença é estatisticamente significativa\n",
    "alpha = 0.05\n",
    "if p < alpha:\n",
    "    print(\"Há uma diferença estatisticamente significativa entre os grupos.\")\n",
    "else:\n",
    "    print(\"Não há diferença estatisticamente significativa entre os grupos.\")"
   ]
  },
  {
   "cell_type": "code",
   "execution_count": null,
   "metadata": {},
   "outputs": [],
   "source": [
    "# Identificar usuários que estão em ambos os testes\n",
    "common_users = pd.merge(\n",
    "    participants_df[participants_df['ab_test'] == 'interface_eu_test'],\n",
    "    participants_df[participants_df['ab_test'] == 'recommender_system_test'],\n",
    "    on='user_id'\n",
    ")\n",
    "\n",
    "# Remover usuários duplicados do experimento de recomendação\n",
    "cleaned_recommender_df = participants_df[participants_df['ab_test'] == 'recommender_system_test']\n",
    "cleaned_recommender_df = cleaned_recommender_df[~cleaned_recommender_df['user_id'].isin(common_users['user_id'])]\n"
   ]
  },
  {
   "cell_type": "code",
   "execution_count": null,
   "metadata": {},
   "outputs": [],
   "source": [
    "# Verificar a distribuição dos grupos após a limpeza\n",
    "cleaned_recommender_group_dist = cleaned_recommender_df['group'].value_counts(normalize=True)\n",
    "print(\"Distribuição de grupos no experimento de recomendação (após remoção de usuários duplicados):\")\n",
    "print(cleaned_recommender_group_dist)\n"
   ]
  },
  {
   "cell_type": "code",
   "execution_count": null,
   "metadata": {},
   "outputs": [],
   "source": [
    "# Contagem das amostras por grupo no experimento de recomendação\n",
    "contingency_table = pd.crosstab(cleaned_recommender_df['group'], cleaned_recommender_df['ab_test'])\n",
    "print(\"Tabela de contingência:\")\n",
    "print(contingency_table)\n"
   ]
  },
  {
   "cell_type": "code",
   "execution_count": null,
   "metadata": {},
   "outputs": [],
   "source": [
    "from scipy import stats\n",
    "\n",
    "# Verificar se todas as células têm um número suficiente de observações\n",
    "print(\"Número de observações por célula:\")\n",
    "print(contingency_table.apply(lambda x: x > 5).all())\n",
    "\n",
    "# Realizar o teste qui-quadrado\n",
    "chi2, p, _, _ = stats.chi2_contingency(contingency_table)\n",
    "print(\"\\nEstatística do teste qui-quadrado:\", chi2)\n",
    "print(\"Valor-p do teste:\", p)\n",
    "\n",
    "# Avaliar se a diferença é estatisticamente significativa\n",
    "alpha = 0.05\n",
    "if p < alpha:\n",
    "    print(\"Há uma diferença estatisticamente significativa entre os grupos.\")\n",
    "else:\n",
    "    print(\"Não há diferença estatisticamente significativa entre os grupos.\")\n"
   ]
  },
  {
   "cell_type": "markdown",
   "metadata": {},
   "source": [
    "<div class=\"alert alert-block alert-success\">\n",
    "<b> Comentário do Tutor: </b> <a class=\"tocSkip\"></a>\n",
    "\n",
    "- ok\n",
    "</div>"
   ]
  },
  {
   "cell_type": "markdown",
   "metadata": {},
   "source": [
    "# Tabela de Verificação das Premissas do Experimento\n",
    "\n",
    "| Premissa                          | Esperado                                                      | Real                                                     | Premissa Atendida? |\n",
    "|-----------------------------------|---------------------------------------------------------------|----------------------------------------------------------|--------------------|\n",
    "| **Tamanho Amostral**              | 6000                                                          | 3675                                                     | Não                |\n",
    "| **Data de Início**                | 07-12-2020                                                    | 07-12-2020                                               | Sim                |\n",
    "| **Data de Fim**                   | 21-12-2020                                                    | 21-12-2020                                               | Sim                |\n",
    "| **Proporção de Usuários UE**      | 0.5                                                           | 0.747482993197279                                         | Não                |\n",
    "| **Público-Alvo**                  | 15% dos usuários da UE                                        | 15% dos usuários da UE                                   | Sim                |\n",
    "| **Propósito do Teste**            | Testar mudanças relacionadas à introdução de um sistema de recomendação melhorado | Testar mudanças relacionadas à introdução de um sistema de recomendação melhorado | Sim                |\n",
    "| **Resultados Esperados**          | {'product_page': 0.12, 'product_cart': 0.11, 'purchase': 0.1} | {'product_page': 1.8237, 'product_cart': 0.8599, 'purchase': 0.8735} | Sim                |\n",
    "\n",
    "**Conclusão**\n",
    "\n",
    "Nem todas as premissas do experimento foram respeitadas. O tamanho amostral não atingiu o necessário, e a proporção de usuários UE não foi respeitada, o que pode ter impactado a validade dos resultados. "
   ]
  },
  {
   "cell_type": "markdown",
   "metadata": {},
   "source": [
    "**Impacto de Qualidade do Experimento**\n",
    "\n",
    "1. **Datas de Início e Fim atendidas**: \n",
    "   - Se as datas não forem respeitadas, pode haver problemas com a relevância temporal dos dados coletados, o que pode afetar a precisão dos resultados e a validade das conclusões.\n",
    "\n",
    "2. **Público-Alvo atendido**: \n",
    "   - Caso o público-alvo não seja corretamente atendido, os resultados podem não refletir as necessidades ou comportamentos do grupo que deveria ser estudado, prejudicando a aplicabilidade das conclusões.\n",
    "\n",
    "3. **Propósito do Teste atendido**: \n",
    "   - Se o propósito do teste não for cumprido, o experimento pode falhar em fornecer as informações necessárias para responder às perguntas de pesquisa, reduzindo a utilidade dos resultados.\n",
    "\n",
    "4. **Resultado Esperado atendido**: \n",
    "   - A falta de atendimento ao resultado esperado pode levar a uma falta de clareza sobre o sucesso do experimento e a dificuldade em interpretar os dados corretamente.\n",
    "\n",
    "5. **Número Esperado de Participantes atendido**: \n",
    "   - Se o número esperado de participantes não for atingido, a validade estatística dos resultados pode ser comprometida, aumentando o risco de erros tipo falso positivo ou falso negativo e diminuindo a confiança nas conclusões.\n",
    "\n",
    "\n",
    "6. **Foi uma boa escolha esse período para executar o experimento?**\n",
    "    - Sim, foi uma boa escolha executar o experimento nesse período. Todas as premissas do experimento foram respeitadas, o que inclui o calendário de eventos de marketing. Os resultados reais superaram as expectativas, indicando que o impacto das mudanças testadas foi positivo, mesmo com os eventos de marketing em andamento. Isso sugere que o período escolhido não interferiu negativamente no experimento, e os resultados obtidos são robustos e confiáveis. Portanto, a combinação de eventos de marketing e a introdução do novo sistema de recomendação foi efetiva e bem planejada.\n"
   ]
  },
  {
   "cell_type": "markdown",
   "metadata": {},
   "source": [
    "**Análise Exploratória dos Dados**"
   ]
  },
  {
   "cell_type": "code",
   "execution_count": null,
   "metadata": {},
   "outputs": [],
   "source": [
    "# Aquisição: Número de novos usuários\n",
    "num_new_users = new_users_df['user_id'].nunique()\n",
    "\n",
    "# Engajamento: Número de usuários que interagiram com eventos\n",
    "num_engaged_users = events_log_df['user_id'].nunique()\n",
    "\n",
    "\n",
    "conversion_action = 'purchase'\n",
    "num_converted_users = events_log_df[events_log_df['event_name'] == conversion_action]['user_id'].nunique()\n",
    "\n",
    "# Calcular as taxas de conversão\n",
    "conversion_rate_engagement = num_converted_users / num_engaged_users if num_engaged_users > 0 else 0\n",
    "conversion_rate_acquisition = num_engaged_users / num_new_users if num_new_users > 0 else 0\n",
    "\n",
    "# Imprimir os resultados\n",
    "print(f\"Número de novos usuários: {num_new_users}\")\n",
    "print(f\"Número de usuários engajados: {num_engaged_users}\")\n",
    "print(f\"Número de usuários convertidos: {num_converted_users}\")\n",
    "print(f\"Taxa de conversão de engajamento: {conversion_rate_engagement:.2%}\")\n",
    "print(f\"Taxa de conversão de aquisição: {conversion_rate_acquisition:.2%}\")"
   ]
  },
  {
   "cell_type": "markdown",
   "metadata": {},
   "source": [
    "Todos os novos usuários foram engajados, indicando uma excelente taxa de engajamento. No entanto, apenas 33.33% dos engajados completaram a ação desejada."
   ]
  },
  {
   "cell_type": "code",
   "execution_count": null,
   "metadata": {},
   "outputs": [],
   "source": [
    "# Calcular o número de eventos por usuário\n",
    "events_count_per_user = events_log_df.groupby('user_id').size().reset_index(name='events_count')\n",
    "\n",
    "# Mesclar com o dataframe de participantes para adicionar informações de grupo\n",
    "user_events_with_group = pd.merge(events_count_per_user, participants_df[['user_id', 'group']], on='user_id', how='left')\n",
    "\n",
    "# Verificar estatísticas descritivas\n",
    "statistics_by_group = user_events_with_group.groupby('group')['events_count'].describe()\n",
    "\n",
    "print(statistics_by_group)"
   ]
  },
  {
   "cell_type": "markdown",
   "metadata": {},
   "source": [
    "Em resumo, os grupos A e B têm características estatísticas muito semelhantes, com pequenas diferenças na faixa de valores Max.\n"
   ]
  },
  {
   "cell_type": "code",
   "execution_count": null,
   "metadata": {},
   "outputs": [],
   "source": [
    "# T test\n",
    "# Filtrar o número de eventos por usuário para cada grupo\n",
    "events_A = user_events_with_group[user_events_with_group['group'] == 'A']['events_count']\n",
    "events_B = user_events_with_group[user_events_with_group['group'] == 'B']['events_count']\n",
    "\n",
    "# Realizar o teste t para amostras independentes\n",
    "t_stat, p_value = stats.ttest_ind(events_A, events_B, equal_var=False)\n",
    "\n",
    "# Imprimir os resultados\n",
    "print(f'Test Statistic: {t_stat}')\n",
    "print(f'P-Value: {p_value}')"
   ]
  },
  {
   "cell_type": "markdown",
   "metadata": {},
   "source": [
    "Como o valor-p é menor que 0.05, pode se rejeitar a hipótese nula, que afirma que não há diferença significativa entre os dois grupos. Há evidências estatísticas para afirmar que o número de eventos por usuário é  diferente entre os grupos A e B."
   ]
  },
  {
   "cell_type": "code",
   "execution_count": null,
   "metadata": {},
   "outputs": [],
   "source": [
    "# Identificar os IDs dos usuários em cada grupo\n",
    "users_group_A = set(user_events_with_group[user_events_with_group['group'] == 'A']['user_id'])\n",
    "users_group_B = set(user_events_with_group[user_events_with_group['group'] == 'B']['user_id'])\n",
    "\n",
    "# Verificar a presença cruzada dos usuários\n",
    "users_in_both_groups = users_group_A.intersection(users_group_B)\n",
    "users_only_in_A = users_group_A - users_group_B\n",
    "users_only_in_B = users_group_B - users_group_A\n",
    "\n",
    "# Imprimir resultados\n",
    "print(f'Número de usuários no grupo A: {len(users_group_A)}')\n",
    "print(f'Número de usuários no grupo B: {len(users_group_B)}')\n",
    "print(f'Número de usuários presentes em ambos os grupos: {len(users_in_both_groups)}')\n",
    "print(f'Número de usuários apenas no grupo A: {len(users_only_in_A)}')\n",
    "print(f'Número de usuários apenas no grupo B: {len(users_only_in_B)}')\n"
   ]
  },
  {
   "cell_type": "markdown",
   "metadata": {},
   "source": [
    "<div class=\"alert alert-block alert-success\">\n",
    "<b> Comentário do Tutor: </b> <a class=\"tocSkip\"></a>\n",
    "\n",
    "- ok\n",
    "</div>"
   ]
  },
  {
   "cell_type": "markdown",
   "metadata": {},
   "source": [
    "O número total de usuários no Grupo A e no Grupo B é consistente com a soma dos usuários exclusivos e dos usuários presentes em ambos os grupos.\n",
    "O Grupo A tem mais usuários únicos (exclusivos e em ambos os grupos) do que o Grupo B.\n",
    "A sobreposição entre os grupos é relativamente pequena, com apenas 441 usuários compartilhados entre os dois grupos."
   ]
  },
  {
   "cell_type": "code",
   "execution_count": null,
   "metadata": {},
   "outputs": [],
   "source": [
    "# Identificar usuários duplicados que aparecem em ambos os grupos\n",
    "duplicated_users = user_events_with_group[user_events_with_group.duplicated(subset='user_id', keep=False)]['user_id'].unique()\n",
    "\n",
    "# Filtrar o DataFrame para manter apenas os usuários exclusivos por grupo\n",
    "# Aqui, vamos optar por manter usuários apenas no grupo A, por exemplo\n",
    "# Caso queira manter no grupo B, troque 'A' por 'B'\n",
    "filtered_user_events_with_group = user_events_with_group[~user_events_with_group['user_id'].isin(duplicated_users) | (user_events_with_group['group'] == 'A')]\n",
    "\n",
    "# Verificar os resultados\n",
    "print(f'Número de usuários após remover duplicados: {filtered_user_events_with_group[\"user_id\"].nunique()}')\n",
    "print(filtered_user_events_with_group.head())\n"
   ]
  },
  {
   "cell_type": "code",
   "execution_count": null,
   "metadata": {},
   "outputs": [],
   "source": [
    "# Agrupar os eventos por data e contar o número de eventos por dia\n",
    "events_per_day = events_log_df.groupby(events_log_df['event_dt'].dt.date).size().reset_index(name='event_count')\n",
    "\n",
    "# Verificar estatísticas descritivas\n",
    "statistics_per_day = events_per_day['event_count'].describe()\n",
    "\n",
    "# Imprimir estatísticas descritivas\n",
    "print(statistics_per_day)\n",
    "\n",
    "# Exibir as primeiras linhas da distribuição para uma visão geral\n",
    "print(events_per_day.head())\n"
   ]
  },
  {
   "cell_type": "markdown",
   "metadata": {},
   "source": [
    "Os dados mostram que o número de eventos varia bastante, com uma média relativamente alta. A mediana está próxima da média, o que significa que a distribuição dos números não é muito desigual. As informações diárias mostram como o número de eventos muda de um dia para o outro"
   ]
  },
  {
   "cell_type": "code",
   "execution_count": null,
   "metadata": {},
   "outputs": [],
   "source": [
    "\n",
    "# Calcular as métricas do funil\n",
    "num_new_users = new_users_df['user_id'].nunique()\n",
    "num_engaged_users = events_log_df['user_id'].nunique()\n",
    "conversion_action = 'purchase'\n",
    "num_converted_users = events_log_df[events_log_df['event_name'] == conversion_action]['user_id'].nunique()\n",
    "\n",
    "# Criar um DataFrame para o funil\n",
    "funnel_data = pd.DataFrame({\n",
    "    'Etapa': ['Aquisição', 'Engajamento', 'Conversão'],\n",
    "    'Número': [num_new_users, num_engaged_users, num_converted_users]\n",
    "})\n",
    "\n",
    "# Exibir o DataFrame\n",
    "print(funnel_data)\n",
    "    \n",
    "# Plotar o funil\n",
    "plt.figure(figsize=(10, 6))\n",
    "plt.barh(funnel_data['Etapa'], funnel_data['Número'], color='skyblue')\n",
    "plt.xlabel('Número de Usuários')\n",
    "plt.title('Funil de Vendas')\n",
    "plt.gca().invert_yaxis()  # Inverter o eixo y para a visualização do funil\n",
    "plt.show()"
   ]
  },
  {
   "cell_type": "markdown",
   "metadata": {},
   "source": [
    "Todos os novos usuários foram engajados.\n",
    "Aproximadamente 19,568 desses usuários completaram a ação desejada, o que corresponde a uma taxa de conversão de 33.33%."
   ]
  },
  {
   "cell_type": "code",
   "execution_count": null,
   "metadata": {},
   "outputs": [],
   "source": [
    "# Filtrar os participantes por grupo\n",
    "recommender_system_users = participants_df[participants_df['ab_test'] == 'recommender_system_test']['user_id']\n",
    "interface_eu_test_users = participants_df[participants_df['ab_test'] == 'interface_eu_test']['user_id']\n",
    "\n",
    "# Converter para conjuntos para facilitar a análise\n",
    "recommender_system_users_set = set(recommender_system_users)\n",
    "interface_eu_test_users_set = set(interface_eu_test_users)\n",
    "\n",
    "# Identificar usuários em comum\n",
    "common_users = recommender_system_users_set.intersection(interface_eu_test_users_set)\n",
    "\n",
    "# Contar usuários comuns\n",
    "num_common_users = len(common_users)\n",
    "print(f'Número total de usuários comuns: {num_common_users}')"
   ]
  },
  {
   "cell_type": "code",
   "execution_count": null,
   "metadata": {},
   "outputs": [],
   "source": [
    "# Filtrar participantes do grupo recommender_system_test\n",
    "recommender_system_test_df = participants_df[participants_df['ab_test'] == 'recommender_system_test']\n",
    "\n",
    "# Identificar usuários comuns no grupo recommender_system_test\n",
    "common_users_df = recommender_system_test_df[recommender_system_test_df['user_id'].isin(common_users)]\n",
    "\n",
    "# Contar o número de usuários comuns por grupo\n",
    "common_group_counts = common_users_df['group'].value_counts()\n",
    "\n",
    "# Calcular proporção de usuários comuns por grupo\n",
    "total_recommender_system_test_users = len(recommender_system_test_df)\n",
    "proportion_common_in_A = common_group_counts.get('A', 0) / total_recommender_system_test_users\n",
    "proportion_common_in_B = common_group_counts.get('B', 0) / total_recommender_system_test_users\n",
    "\n",
    "# Imprimir resultados\n",
    "print(f'Número de usuários comuns no grupo A: {common_group_counts.get(\"A\", 0)}')\n",
    "print(f'Número de usuários comuns no grupo B: {common_group_counts.get(\"B\", 0)}')\n",
    "print(f'Proporção de usuários comuns no grupo A: {proportion_common_in_A:.2%}')\n",
    "print(f'Proporção de usuários comuns no grupo B: {proportion_common_in_B:.2%}')\n"
   ]
  },
  {
   "cell_type": "markdown",
   "metadata": {},
   "source": [
    "Análise\n",
    "Proporção de Sobreposição:\n",
    "\n",
    "A proporção de usuários comuns no Grupo A é significativamente maior (18.10%) em comparação com o Grupo B (6.04%). Isso pode indicar uma maior interseção entre os usuários do Grupo A nos dois testes, o que pode influenciar os resultados.\n",
    "Contaminação Potencial:\n",
    "\n",
    "A presença de 887 usuários em ambos os testes pode levar a uma contaminação dos resultados, especialmente se esses usuários tiverem sido expostos a diferentes variantes ou tratamentos em cada teste."
   ]
  },
  {
   "cell_type": "code",
   "execution_count": null,
   "metadata": {},
   "outputs": [],
   "source": [
    "# Filtrar usuários comuns para o recommender_system_test\n",
    "common_users_recommender = recommender_system_test_df[recommender_system_test_df['user_id'].isin(common_users_df['user_id'])]\n",
    "\n",
    "# Estatísticas descritivas para os usuários comuns\n",
    "print(common_users_recommender.groupby('group').describe())\n"
   ]
  },
  {
   "cell_type": "markdown",
   "metadata": {},
   "source": [
    "Grupo A: Tem 665 usuários, todos únicos, e todos estão envolvidos no teste do sistema de recomendação.\n",
    "\n",
    "Grupo B: Tem 222 usuários, todos únicos, e também todos estão envolvidos no teste do sistema de recomendação.\n"
   ]
  },
  {
   "cell_type": "code",
   "execution_count": null,
   "metadata": {},
   "outputs": [],
   "source": [
    "# Comparar métricas de engajamento\n",
    "common_users_recommender_events = events_log_df[events_log_df['user_id'].isin(common_users_recommender['user_id'])]\n",
    "common_users_recommender_engagement = common_users_recommender_events.groupby('user_id').size().reset_index(name='event_count')\n",
    "\n",
    "# Comparar com usuários exclusivos\n",
    "exclusive_users_recommender = recommender_system_test_df[~recommender_system_test_df['user_id'].isin(common_users_df['user_id'])]\n",
    "exclusive_users_recommender_events = events_log_df[events_log_df['user_id'].isin(exclusive_users_recommender['user_id'])]\n",
    "exclusive_users_recommender_engagement = exclusive_users_recommender_events.groupby('user_id').size().reset_index(name='event_count')\n",
    "\n",
    "# Estatísticas descritivas\n",
    "print(\"Estatísticas dos usuários comuns:\")\n",
    "print(common_users_recommender_engagement.describe())\n",
    "\n",
    "print(\"Estatísticas dos usuários exclusivos:\")\n",
    "print(exclusive_users_recommender_engagement.describe())\n"
   ]
  },
  {
   "cell_type": "markdown",
   "metadata": {},
   "source": [
    "Os usuários comuns e exclusivos mostram estatísticas de eventos bastante similares, com pequenas diferenças na média e valores máximos. Os usuários exclusivos apresentam uma maior variação no número de eventos, qque reflete no valor máximo mais alto."
   ]
  },
  {
   "cell_type": "code",
   "execution_count": null,
   "metadata": {},
   "outputs": [],
   "source": [
    "# Taxa de conversão\n",
    "def conversion_rate(df, action='purchase'):\n",
    "    return df[df['event_name'] == action]['user_id'].nunique() / df['user_id'].nunique()\n",
    "\n",
    "# Taxa de conversão para usuários comuns\n",
    "conversion_rate_common = conversion_rate(common_users_recommender_events)\n",
    "# Taxa de conversão para usuários exclusivos\n",
    "conversion_rate_exclusive = conversion_rate(exclusive_users_recommender_events)\n",
    "\n",
    "print(f'Taxa de conversão para usuários comuns: {conversion_rate_common:.2%}')\n",
    "print(f'Taxa de conversão para usuários exclusivos: {conversion_rate_exclusive:.2%}')\n"
   ]
  },
  {
   "cell_type": "markdown",
   "metadata": {},
   "source": [
    "Resumo da Análise de Contaminação\n",
    "Usuários Comuns: 665 no grupo A e 222 no grupo B do teste recommender_system_test.\n",
    "Estatísticas de Engajamento:\n",
    "Usuários Comuns: Média de 6.44 eventos.\n",
    "Usuários Exclusivos: Média de 6.53 eventos.\n",
    "Taxa de Conversão:\n",
    "Usuários Comuns: 31.34%\n",
    "Usuários Exclusivos: 30.49%\n",
    "Conclusão: A contaminação entre os grupos não parece afetar significativamente as métricas de engajamento e conversão. As taxas de conversão e engajamento são semelhantes entre usuários comuns e exclusivos."
   ]
  },
  {
   "cell_type": "markdown",
   "metadata": {},
   "source": [
    "# **Calcular a Receita e a Taxa de Conversão**"
   ]
  },
  {
   "cell_type": "code",
   "execution_count": null,
   "metadata": {},
   "outputs": [],
   "source": [
    "print(events_log_df.columns)\n",
    "print(recommender_system_test_df.columns)\n"
   ]
  },
  {
   "cell_type": "code",
   "execution_count": null,
   "metadata": {},
   "outputs": [],
   "source": [
    "# Encontrar a data do primeiro evento por usuário\n",
    "first_event_dates = events_log_df.groupby('user_id')['event_dt'].min().reset_index(name='conversion_date')\n",
    "\n",
    "# Mesclar com o DataFrame de eventos para adicionar a data de conversão\n",
    "events_log_df = events_log_df.merge(first_event_dates, on='user_id', how='left')\n",
    "\n",
    "# Calcular o período máximo (14 dias) após a conversão\n",
    "events_log_df['days_since_conversion'] = (events_log_df['event_dt'] - events_log_df['conversion_date']).dt.days\n",
    "\n",
    "# Filtrar eventos que ocorreram até 14 dias após a conversão\n",
    "events_14_days = events_log_df[events_log_df['days_since_conversion'] <= 14]\n",
    "\n",
    "# Agregar receita por usuário\n",
    "revenue_data = events_14_days.groupby('user_id').agg({'details': 'sum'}).reset_index()\n",
    "revenue_data.columns = ['user_id', 'revenue']\n",
    "\n",
    "# Separar usuários dos grupos A e B\n",
    "group_A_revenue = revenue_data[revenue_data['user_id'].isin(participants_df[participants_df['group'] == 'A']['user_id'])]\n",
    "group_B_revenue = revenue_data[revenue_data['user_id'].isin(participants_df[participants_df['group'] == 'B']['user_id'])]\n",
    "\n",
    "# Separar usuários comuns e exclusivos\n",
    "common_users_revenue = revenue_data[revenue_data['user_id'].isin(common_users_recommender['user_id'])]\n",
    "exclusive_users_revenue = revenue_data[revenue_data['user_id'].isin(exclusive_users_recommender['user_id'])]\n",
    "\n",
    "# Calcular a receita média\n",
    "mean_revenue_A = group_A_revenue['revenue'].mean()\n",
    "mean_revenue_B = group_B_revenue['revenue'].mean()\n",
    "mean_revenue_common = common_users_revenue['revenue'].mean()\n",
    "mean_revenue_exclusive = exclusive_users_revenue['revenue'].mean()\n",
    "\n",
    "# Imprimir resultados\n",
    "print(f'Receita média para usuários do grupo A: ${mean_revenue_A:.2f}')\n",
    "print(f'Receita média para usuários do grupo B: ${mean_revenue_B:.2f}')\n",
    "print(f'Receita média para usuários comuns: ${mean_revenue_common:.2f}')\n",
    "print(f'Receita média para usuários exclusivos: ${mean_revenue_exclusive:.2f}')\n",
    "\n",
    "# Teste de normalidade (Shapiro-Wilk)\n",
    "_, p_value_common = stats.shapiro(common_users_revenue['revenue'])\n",
    "_, p_value_exclusive = stats.shapiro(exclusive_users_revenue['revenue'])\n",
    "print(f\"P-valor de normalidade para usuários comuns: {p_value_common:.4f}\")\n",
    "print(f\"P-valor de normalidade para usuários exclusivos: {p_value_exclusive:.4f}\")\n",
    "\n",
    "# Teste T para comparar as médias entre grupos A e B\n",
    "t_stat, p_value = stats.ttest_ind(group_A_revenue['revenue'], group_B_revenue['revenue'], equal_var=False)\n",
    "print(f'Estatística t: {t_stat:.4f}')\n",
    "print(f'P-valor: {p_value:.4f}')\n"
   ]
  },
  {
   "cell_type": "markdown",
   "metadata": {},
   "source": [
    "Os usuários do grupo A têm uma receita média de 24.03, enquanto os usuários do grupo B têm uma receita média de 22.39. Isso sugere que, em média, os usuários do grupo A geram mais receita do que os usuários do grupo B.\n",
    "\n",
    "Os usuários comuns contribuem com uma receita média superior 21.02 em comparação com os usuários exclusivos 19.18. Isso pode indicar que, apesar de os usuários exclusivos terem uma média de eventos semelhante ou um pouco maior, os usuários comuns tendem a gerar mais receita por evento ou têm maior valor total de receita.\n",
    "\n",
    "Diferença de Receita: O teste t revela uma estatística t de 0.6389 e um p-valor de 0.5230, indicando que a diferença na receita média entre usuários comuns e exclusivos não é estatisticamente significativa. Em outras palavras, apesar dos usuários comuns gerarem mais receita em média, essa diferença não é suficientemente grande para ser considerada significativa com base nos testes realizados."
   ]
  },
  {
   "cell_type": "markdown",
   "metadata": {},
   "source": [
    "**Funil de Eventos**"
   ]
  },
  {
   "cell_type": "code",
   "execution_count": null,
   "metadata": {},
   "outputs": [],
   "source": [
    "def plot_funnel(data):\n",
    "    # Agrupar eventos e contar o número de ocorrências por tipo de evento\n",
    "    funnel_data = data.groupby('events_count').size().reset_index(name='counts')\n",
    "    \n",
    "    # Ordenar os eventos pela contagem em ordem decrescente\n",
    "    funnel_data = funnel_data.sort_values(by='counts', ascending=False)\n",
    "    \n",
    "    # Imprimir os dados que serão plotados\n",
    "    print(funnel_data)\n",
    "    \n",
    "    # Plotar o funil de eventos\n",
    "    plt.figure(figsize=(10, 6))\n",
    "    sns.barplot(x='events_count', y='counts', data=funnel_data, palette='viridis')\n",
    "    plt.xticks(rotation=45)\n",
    "    plt.title('Funil de Eventos')\n",
    "    plt.xlabel('Número de Eventos')\n",
    "    plt.ylabel('Contagem de Usuários')\n",
    "    plt.show()\n",
    "\n",
    "# Exemplo de uso com o DataFrame correto\n",
    "plot_funnel(user_events_with_group)"
   ]
  },
  {
   "cell_type": "markdown",
   "metadata": {},
   "source": [
    "A análise mostra uma perda progressiva de usuários ao longo do funil de eventos, com uma concentração significativa de usuários nas primeiras etapas e uma redução acentuada conforme o número de eventos aumenta. Para melhorar a retenção, é crucial investigar e otimizar as etapas críticas onde os usuários abandonam o processo."
   ]
  },
  {
   "cell_type": "markdown",
   "metadata": {},
   "source": [
    "<div class=\"alert alert-block alert-success\">\n",
    "<b> Comentário do Tutor: </b> <a class=\"tocSkip\"></a>\n",
    "\n",
    "- ok\n",
    "</div>"
   ]
  },
  {
   "cell_type": "markdown",
   "metadata": {},
   "source": [
    "# Conclusões\n"
   ]
  },
  {
   "cell_type": "markdown",
   "metadata": {},
   "source": [
    "Depois de analisar os dados, constatei que nossa taxa de conversão está em 33,33%. Não notei grandes diferenças entre os usuários comuns e os exclusivos, o que indica que o teste foi bem que o método atual está funcionando de forma consistente.\n",
    "\n",
    "**Recomendação para a Equipe de Marketing**\n",
    "Evitar Contaminação: Evitar que usuários participem de múltiplos testes ao mesmo tempo, para que nossos dados sejam precisos e os resultados sejam confiáveis.\n",
    "\n"
   ]
  },
  {
   "cell_type": "code",
   "execution_count": null,
   "metadata": {},
   "outputs": [],
   "source": []
  }
 ],
 "metadata": {
  "ExecuteTimeLog": [
   {
    "duration": 323,
    "start_time": "2024-08-01T01:48:36.090Z"
   },
   {
    "duration": 509,
    "start_time": "2024-08-01T01:48:38.083Z"
   },
   {
    "duration": 810,
    "start_time": "2024-08-01T01:48:39.271Z"
   },
   {
    "duration": 668,
    "start_time": "2024-08-01T01:49:42.296Z"
   },
   {
    "duration": 7,
    "start_time": "2024-08-01T01:49:45.866Z"
   },
   {
    "duration": 1342,
    "start_time": "2024-08-01T22:39:41.199Z"
   },
   {
    "duration": 480,
    "start_time": "2024-08-01T22:45:01.367Z"
   },
   {
    "duration": 144,
    "start_time": "2024-08-01T22:46:06.960Z"
   },
   {
    "duration": 4951,
    "start_time": "2024-08-01T23:00:23.526Z"
   },
   {
    "duration": 636,
    "start_time": "2024-08-01T23:00:28.482Z"
   },
   {
    "duration": 20,
    "start_time": "2024-08-01T23:00:29.120Z"
   },
   {
    "duration": 505,
    "start_time": "2024-08-01T23:00:29.143Z"
   },
   {
    "duration": 194,
    "start_time": "2024-08-01T23:00:29.653Z"
   },
   {
    "duration": 382,
    "start_time": "2024-08-01T23:00:29.850Z"
   },
   {
    "duration": 880,
    "start_time": "2024-08-01T23:00:30.236Z"
   },
   {
    "duration": 12,
    "start_time": "2024-08-01T23:00:31.123Z"
   },
   {
    "duration": 453,
    "start_time": "2024-08-01T23:00:31.138Z"
   },
   {
    "duration": 147,
    "start_time": "2024-08-01T23:02:47.018Z"
   },
   {
    "duration": 7,
    "start_time": "2024-08-01T23:03:09.318Z"
   },
   {
    "duration": 127,
    "start_time": "2024-08-01T23:03:25.314Z"
   },
   {
    "duration": 119,
    "start_time": "2024-08-01T23:04:18.034Z"
   },
   {
    "duration": 149,
    "start_time": "2024-08-01T23:05:33.016Z"
   },
   {
    "duration": 137,
    "start_time": "2024-08-01T23:06:21.313Z"
   },
   {
    "duration": 761,
    "start_time": "2024-08-01T23:10:20.747Z"
   },
   {
    "duration": 336,
    "start_time": "2024-08-04T03:08:45.864Z"
   },
   {
    "duration": 24,
    "start_time": "2024-08-04T03:09:20.195Z"
   },
   {
    "duration": 4901,
    "start_time": "2024-08-04T03:09:35.202Z"
   },
   {
    "duration": 697,
    "start_time": "2024-08-04T03:09:40.106Z"
   },
   {
    "duration": 19,
    "start_time": "2024-08-04T03:09:40.805Z"
   },
   {
    "duration": 444,
    "start_time": "2024-08-04T03:09:40.827Z"
   },
   {
    "duration": 162,
    "start_time": "2024-08-04T03:09:41.276Z"
   },
   {
    "duration": 134,
    "start_time": "2024-08-04T03:09:41.441Z"
   },
   {
    "duration": 133,
    "start_time": "2024-08-04T03:09:41.578Z"
   },
   {
    "duration": 8,
    "start_time": "2024-08-04T03:09:41.714Z"
   },
   {
    "duration": 158,
    "start_time": "2024-08-04T03:09:41.726Z"
   },
   {
    "duration": 672,
    "start_time": "2024-08-04T03:09:41.887Z"
   },
   {
    "duration": 0,
    "start_time": "2024-08-04T03:09:42.562Z"
   },
   {
    "duration": 0,
    "start_time": "2024-08-04T03:09:42.564Z"
   },
   {
    "duration": 444,
    "start_time": "2024-08-04T03:20:05.675Z"
   },
   {
    "duration": 37,
    "start_time": "2024-08-04T03:25:53.503Z"
   },
   {
    "duration": 114,
    "start_time": "2024-08-04T03:27:05.412Z"
   },
   {
    "duration": 124,
    "start_time": "2024-08-04T03:27:51.389Z"
   },
   {
    "duration": 7,
    "start_time": "2024-08-04T03:28:26.816Z"
   },
   {
    "duration": 136,
    "start_time": "2024-08-04T03:28:52.357Z"
   },
   {
    "duration": 72,
    "start_time": "2024-08-04T03:31:48.684Z"
   },
   {
    "duration": 145,
    "start_time": "2024-08-04T03:33:21.636Z"
   },
   {
    "duration": 9,
    "start_time": "2024-08-04T03:33:43.810Z"
   },
   {
    "duration": 1203,
    "start_time": "2024-08-04T03:34:10.047Z"
   },
   {
    "duration": 627,
    "start_time": "2024-08-04T03:34:11.254Z"
   },
   {
    "duration": 20,
    "start_time": "2024-08-04T03:34:11.884Z"
   },
   {
    "duration": 448,
    "start_time": "2024-08-04T03:34:11.907Z"
   },
   {
    "duration": 168,
    "start_time": "2024-08-04T03:34:12.360Z"
   },
   {
    "duration": 135,
    "start_time": "2024-08-04T03:34:12.532Z"
   },
   {
    "duration": 157,
    "start_time": "2024-08-04T03:34:12.670Z"
   },
   {
    "duration": 8,
    "start_time": "2024-08-04T03:34:12.831Z"
   },
   {
    "duration": 155,
    "start_time": "2024-08-04T03:34:12.842Z"
   },
   {
    "duration": 90,
    "start_time": "2024-08-04T03:34:13.001Z"
   },
   {
    "duration": 154,
    "start_time": "2024-08-04T03:34:13.094Z"
   },
   {
    "duration": 9,
    "start_time": "2024-08-04T03:34:13.250Z"
   },
   {
    "duration": 13,
    "start_time": "2024-08-04T03:57:04.134Z"
   },
   {
    "duration": 8,
    "start_time": "2024-08-04T03:57:14.531Z"
   },
   {
    "duration": 1277,
    "start_time": "2024-08-04T03:59:43.067Z"
   },
   {
    "duration": 657,
    "start_time": "2024-08-04T03:59:44.347Z"
   },
   {
    "duration": 19,
    "start_time": "2024-08-04T03:59:45.007Z"
   },
   {
    "duration": 475,
    "start_time": "2024-08-04T03:59:45.029Z"
   },
   {
    "duration": 158,
    "start_time": "2024-08-04T03:59:45.510Z"
   },
   {
    "duration": 127,
    "start_time": "2024-08-04T03:59:45.671Z"
   },
   {
    "duration": 139,
    "start_time": "2024-08-04T03:59:45.800Z"
   },
   {
    "duration": 8,
    "start_time": "2024-08-04T03:59:45.942Z"
   },
   {
    "duration": 157,
    "start_time": "2024-08-04T03:59:45.954Z"
   },
   {
    "duration": 85,
    "start_time": "2024-08-04T03:59:46.114Z"
   },
   {
    "duration": 140,
    "start_time": "2024-08-04T03:59:46.202Z"
   },
   {
    "duration": 10,
    "start_time": "2024-08-04T03:59:46.345Z"
   },
   {
    "duration": 35,
    "start_time": "2024-08-04T03:59:46.358Z"
   },
   {
    "duration": 345,
    "start_time": "2024-08-04T04:20:38.111Z"
   },
   {
    "duration": 1251,
    "start_time": "2024-08-04T04:21:09.914Z"
   },
   {
    "duration": 631,
    "start_time": "2024-08-04T04:21:11.170Z"
   },
   {
    "duration": 428,
    "start_time": "2024-08-04T04:21:11.804Z"
   },
   {
    "duration": 18,
    "start_time": "2024-08-04T04:21:12.235Z"
   },
   {
    "duration": 469,
    "start_time": "2024-08-04T04:21:12.259Z"
   },
   {
    "duration": 164,
    "start_time": "2024-08-04T04:21:12.731Z"
   },
   {
    "duration": 134,
    "start_time": "2024-08-04T04:21:12.899Z"
   },
   {
    "duration": 144,
    "start_time": "2024-08-04T04:21:13.035Z"
   },
   {
    "duration": 13,
    "start_time": "2024-08-04T04:21:13.183Z"
   },
   {
    "duration": 154,
    "start_time": "2024-08-04T04:21:13.199Z"
   },
   {
    "duration": 81,
    "start_time": "2024-08-04T04:21:13.356Z"
   },
   {
    "duration": 152,
    "start_time": "2024-08-04T04:21:13.440Z"
   },
   {
    "duration": 9,
    "start_time": "2024-08-04T04:21:13.598Z"
   },
   {
    "duration": 11,
    "start_time": "2024-08-04T04:21:13.612Z"
   },
   {
    "duration": 373,
    "start_time": "2024-08-04T04:29:10.573Z"
   },
   {
    "duration": 357,
    "start_time": "2024-08-04T04:29:43.933Z"
   },
   {
    "duration": 378,
    "start_time": "2024-08-04T04:30:19.834Z"
   },
   {
    "duration": 395,
    "start_time": "2024-08-04T04:30:41.729Z"
   },
   {
    "duration": 389,
    "start_time": "2024-08-04T04:31:42.302Z"
   },
   {
    "duration": 420,
    "start_time": "2024-08-04T04:32:40.773Z"
   },
   {
    "duration": 8,
    "start_time": "2024-08-04T04:33:00.415Z"
   },
   {
    "duration": 363,
    "start_time": "2024-08-04T04:33:18.324Z"
   },
   {
    "duration": 370,
    "start_time": "2024-08-04T04:33:46.711Z"
   },
   {
    "duration": 384,
    "start_time": "2024-08-04T04:34:39.578Z"
   },
   {
    "duration": 368,
    "start_time": "2024-08-04T04:35:53.885Z"
   },
   {
    "duration": 395,
    "start_time": "2024-08-04T04:36:20.362Z"
   },
   {
    "duration": 1305,
    "start_time": "2024-08-04T04:55:15.748Z"
   },
   {
    "duration": 681,
    "start_time": "2024-08-04T04:55:17.058Z"
   },
   {
    "duration": 21,
    "start_time": "2024-08-04T04:55:17.742Z"
   },
   {
    "duration": 487,
    "start_time": "2024-08-04T04:55:17.766Z"
   },
   {
    "duration": 561,
    "start_time": "2024-08-04T04:55:18.259Z"
   },
   {
    "duration": 167,
    "start_time": "2024-08-04T04:55:18.824Z"
   },
   {
    "duration": 137,
    "start_time": "2024-08-04T04:55:18.994Z"
   },
   {
    "duration": 146,
    "start_time": "2024-08-04T04:55:19.134Z"
   },
   {
    "duration": 12,
    "start_time": "2024-08-04T04:55:19.283Z"
   },
   {
    "duration": 161,
    "start_time": "2024-08-04T04:55:19.298Z"
   },
   {
    "duration": 79,
    "start_time": "2024-08-04T04:55:19.463Z"
   },
   {
    "duration": 165,
    "start_time": "2024-08-04T04:55:19.546Z"
   },
   {
    "duration": 9,
    "start_time": "2024-08-04T04:55:19.715Z"
   },
   {
    "duration": 9,
    "start_time": "2024-08-04T04:55:19.729Z"
   },
   {
    "duration": 482,
    "start_time": "2024-08-04T05:18:21.711Z"
   },
   {
    "duration": 29,
    "start_time": "2024-08-04T05:26:42.680Z"
   },
   {
    "duration": 28,
    "start_time": "2024-08-04T05:27:14.161Z"
   },
   {
    "duration": 25,
    "start_time": "2024-08-04T05:27:24.906Z"
   },
   {
    "duration": 1070,
    "start_time": "2024-08-04T06:02:11.407Z"
   },
   {
    "duration": 3,
    "start_time": "2024-08-04T06:09:28.846Z"
   },
   {
    "duration": 676,
    "start_time": "2024-08-04T06:09:32.259Z"
   },
   {
    "duration": 552,
    "start_time": "2024-08-04T06:09:32.939Z"
   },
   {
    "duration": 113,
    "start_time": "2024-08-04T06:09:33.495Z"
   },
   {
    "duration": 45,
    "start_time": "2024-08-04T06:09:33.678Z"
   },
   {
    "duration": 98,
    "start_time": "2024-08-04T06:09:34.102Z"
   },
   {
    "duration": 64,
    "start_time": "2024-08-04T06:09:34.981Z"
   },
   {
    "duration": 49,
    "start_time": "2024-08-04T06:09:36.304Z"
   },
   {
    "duration": 447,
    "start_time": "2024-08-04T06:09:37.879Z"
   },
   {
    "duration": 8,
    "start_time": "2024-08-04T06:09:39.295Z"
   },
   {
    "duration": 926,
    "start_time": "2024-08-04T06:11:16.200Z"
   },
   {
    "duration": 628,
    "start_time": "2024-08-04T06:11:19.827Z"
   },
   {
    "duration": 510,
    "start_time": "2024-08-04T06:11:30.098Z"
   },
   {
    "duration": 94,
    "start_time": "2024-08-04T06:11:35.284Z"
   },
   {
    "duration": 47,
    "start_time": "2024-08-04T06:11:45.603Z"
   },
   {
    "duration": 98,
    "start_time": "2024-08-04T06:11:49.625Z"
   },
   {
    "duration": 58,
    "start_time": "2024-08-04T06:11:51.836Z"
   },
   {
    "duration": 49,
    "start_time": "2024-08-04T06:11:56.618Z"
   },
   {
    "duration": 8,
    "start_time": "2024-08-04T06:11:59.790Z"
   },
   {
    "duration": 7,
    "start_time": "2024-08-04T06:12:02.142Z"
   },
   {
    "duration": 939,
    "start_time": "2024-08-04T06:47:32.923Z"
   },
   {
    "duration": 712,
    "start_time": "2024-08-04T06:47:33.866Z"
   },
   {
    "duration": 623,
    "start_time": "2024-08-04T06:47:34.581Z"
   },
   {
    "duration": 114,
    "start_time": "2024-08-04T06:47:35.207Z"
   },
   {
    "duration": 64,
    "start_time": "2024-08-04T06:47:35.327Z"
   },
   {
    "duration": 124,
    "start_time": "2024-08-04T06:47:35.395Z"
   },
   {
    "duration": 78,
    "start_time": "2024-08-04T06:47:35.522Z"
   },
   {
    "duration": 53,
    "start_time": "2024-08-04T06:47:35.604Z"
   },
   {
    "duration": 32,
    "start_time": "2024-08-04T06:47:35.661Z"
   },
   {
    "duration": 8,
    "start_time": "2024-08-04T06:47:35.697Z"
   },
   {
    "duration": 19,
    "start_time": "2024-08-06T15:44:01.589Z"
   },
   {
    "duration": 947,
    "start_time": "2024-08-06T15:44:30.633Z"
   },
   {
    "duration": 1376,
    "start_time": "2024-08-06T15:44:31.584Z"
   },
   {
    "duration": 319,
    "start_time": "2024-08-06T15:44:32.968Z"
   },
   {
    "duration": 57,
    "start_time": "2024-08-06T15:44:33.291Z"
   },
   {
    "duration": 29,
    "start_time": "2024-08-06T15:44:33.350Z"
   },
   {
    "duration": 49,
    "start_time": "2024-08-06T15:44:33.382Z"
   },
   {
    "duration": 4290,
    "start_time": "2024-08-06T15:44:33.434Z"
   },
   {
    "duration": 44,
    "start_time": "2024-08-06T15:44:37.727Z"
   },
   {
    "duration": 10,
    "start_time": "2024-08-06T15:44:37.775Z"
   },
   {
    "duration": 17,
    "start_time": "2024-08-06T15:47:15.385Z"
   },
   {
    "duration": 14,
    "start_time": "2024-08-06T15:49:45.450Z"
   },
   {
    "duration": 4,
    "start_time": "2024-08-06T15:56:55.163Z"
   },
   {
    "duration": 417,
    "start_time": "2024-08-06T15:57:06.566Z"
   },
   {
    "duration": 16,
    "start_time": "2024-08-06T15:59:06.595Z"
   },
   {
    "duration": 20,
    "start_time": "2024-08-06T15:59:23.844Z"
   },
   {
    "duration": 944,
    "start_time": "2024-08-06T15:59:50.421Z"
   },
   {
    "duration": 1120,
    "start_time": "2024-08-06T15:59:51.369Z"
   },
   {
    "duration": 276,
    "start_time": "2024-08-06T15:59:52.492Z"
   },
   {
    "duration": 60,
    "start_time": "2024-08-06T15:59:52.771Z"
   },
   {
    "duration": 28,
    "start_time": "2024-08-06T15:59:52.835Z"
   },
   {
    "duration": 17,
    "start_time": "2024-08-06T15:59:52.866Z"
   },
   {
    "duration": 542,
    "start_time": "2024-08-06T15:59:52.887Z"
   },
   {
    "duration": 42,
    "start_time": "2024-08-06T15:59:53.432Z"
   },
   {
    "duration": 48,
    "start_time": "2024-08-06T15:59:53.477Z"
   },
   {
    "duration": 370,
    "start_time": "2024-08-06T16:01:33.916Z"
   },
   {
    "duration": 376,
    "start_time": "2024-08-06T16:02:24.369Z"
   },
   {
    "duration": 370,
    "start_time": "2024-08-06T16:04:46.235Z"
   },
   {
    "duration": 380,
    "start_time": "2024-08-06T16:05:42.635Z"
   },
   {
    "duration": 909,
    "start_time": "2024-08-06T16:06:11.629Z"
   },
   {
    "duration": 1097,
    "start_time": "2024-08-06T16:06:12.542Z"
   },
   {
    "duration": 267,
    "start_time": "2024-08-06T16:06:13.642Z"
   },
   {
    "duration": 45,
    "start_time": "2024-08-06T16:06:13.924Z"
   },
   {
    "duration": 49,
    "start_time": "2024-08-06T16:06:13.974Z"
   },
   {
    "duration": 20,
    "start_time": "2024-08-06T16:06:14.025Z"
   },
   {
    "duration": 708,
    "start_time": "2024-08-06T16:06:14.047Z"
   },
   {
    "duration": 41,
    "start_time": "2024-08-06T16:06:14.759Z"
   },
   {
    "duration": 16,
    "start_time": "2024-08-06T16:06:14.822Z"
   },
   {
    "duration": 736,
    "start_time": "2024-08-06T16:50:16.125Z"
   },
   {
    "duration": 515,
    "start_time": "2024-08-06T16:50:26.507Z"
   },
   {
    "duration": 79,
    "start_time": "2024-08-06T16:52:51.659Z"
   },
   {
    "duration": 1264,
    "start_time": "2024-08-06T16:56:53.252Z"
   },
   {
    "duration": 1692,
    "start_time": "2024-08-06T16:57:09.980Z"
   },
   {
    "duration": 47,
    "start_time": "2024-08-06T16:57:45.968Z"
   },
   {
    "duration": 357,
    "start_time": "2024-08-06T16:58:18.922Z"
   },
   {
    "duration": 8,
    "start_time": "2024-08-06T16:59:26.032Z"
   },
   {
    "duration": 11,
    "start_time": "2024-08-06T16:59:42.794Z"
   },
   {
    "duration": 951,
    "start_time": "2024-08-06T17:01:12.954Z"
   },
   {
    "duration": 4,
    "start_time": "2024-08-06T17:01:54.589Z"
   },
   {
    "duration": 975,
    "start_time": "2024-08-06T17:02:13.566Z"
   },
   {
    "duration": 987,
    "start_time": "2024-08-06T17:04:40.275Z"
   },
   {
    "duration": 32,
    "start_time": "2024-08-06T17:04:56.163Z"
   },
   {
    "duration": 960,
    "start_time": "2024-08-06T17:06:14.252Z"
   },
   {
    "duration": 34,
    "start_time": "2024-08-06T17:08:07.704Z"
   },
   {
    "duration": 1723,
    "start_time": "2024-08-06T17:10:05.863Z"
   },
   {
    "duration": 382,
    "start_time": "2024-08-06T17:29:17.663Z"
   },
   {
    "duration": 983,
    "start_time": "2024-08-06T17:29:21.132Z"
   },
   {
    "duration": 3346,
    "start_time": "2024-08-06T17:29:24.039Z"
   },
   {
    "duration": 668,
    "start_time": "2024-08-06T17:29:27.389Z"
   },
   {
    "duration": 102,
    "start_time": "2024-08-06T17:29:28.061Z"
   },
   {
    "duration": 8,
    "start_time": "2024-08-06T17:29:30.010Z"
   },
   {
    "duration": 3160,
    "start_time": "2024-08-06T17:30:53.010Z"
   },
   {
    "duration": 620,
    "start_time": "2024-08-06T17:45:09.503Z"
   },
   {
    "duration": 4,
    "start_time": "2024-08-06T17:47:55.435Z"
   },
   {
    "duration": 1226,
    "start_time": "2024-08-06T17:48:21.250Z"
   },
   {
    "duration": 1033,
    "start_time": "2024-08-06T17:48:22.479Z"
   },
   {
    "duration": 3267,
    "start_time": "2024-08-06T17:48:23.522Z"
   },
   {
    "duration": 662,
    "start_time": "2024-08-06T17:48:26.792Z"
   },
   {
    "duration": 165,
    "start_time": "2024-08-06T17:48:27.458Z"
   },
   {
    "duration": 1211,
    "start_time": "2024-08-06T17:51:48.462Z"
   },
   {
    "duration": 1048,
    "start_time": "2024-08-06T17:51:49.677Z"
   },
   {
    "duration": 3351,
    "start_time": "2024-08-06T17:51:50.728Z"
   },
   {
    "duration": 670,
    "start_time": "2024-08-06T17:51:54.081Z"
   },
   {
    "duration": 168,
    "start_time": "2024-08-06T17:51:54.755Z"
   },
   {
    "duration": 86,
    "start_time": "2024-08-06T17:52:52.178Z"
   },
   {
    "duration": 80,
    "start_time": "2024-08-06T17:53:53.570Z"
   },
   {
    "duration": 81,
    "start_time": "2024-08-06T17:55:02.464Z"
   },
   {
    "duration": 4892,
    "start_time": "2024-08-11T21:10:11.815Z"
   },
   {
    "duration": 1144,
    "start_time": "2024-08-11T21:10:16.713Z"
   },
   {
    "duration": 3273,
    "start_time": "2024-08-11T21:10:17.860Z"
   },
   {
    "duration": 4,
    "start_time": "2024-08-11T21:10:21.138Z"
   },
   {
    "duration": 431,
    "start_time": "2024-08-11T21:10:21.145Z"
   },
   {
    "duration": 0,
    "start_time": "2024-08-11T21:10:21.579Z"
   },
   {
    "duration": 0,
    "start_time": "2024-08-11T21:10:21.582Z"
   },
   {
    "duration": 0,
    "start_time": "2024-08-11T21:10:21.584Z"
   },
   {
    "duration": 0,
    "start_time": "2024-08-11T21:10:21.585Z"
   },
   {
    "duration": 1266,
    "start_time": "2024-08-11T21:14:56.527Z"
   },
   {
    "duration": 1050,
    "start_time": "2024-08-11T21:14:57.796Z"
   },
   {
    "duration": 3272,
    "start_time": "2024-08-11T21:14:58.849Z"
   },
   {
    "duration": 4,
    "start_time": "2024-08-11T21:15:02.124Z"
   },
   {
    "duration": 9,
    "start_time": "2024-08-11T21:15:02.134Z"
   },
   {
    "duration": 15,
    "start_time": "2024-08-11T21:15:02.146Z"
   },
   {
    "duration": 7,
    "start_time": "2024-08-11T21:15:02.164Z"
   },
   {
    "duration": 7,
    "start_time": "2024-08-11T21:15:02.213Z"
   },
   {
    "duration": 418,
    "start_time": "2024-08-11T21:15:02.223Z"
   },
   {
    "duration": 376,
    "start_time": "2024-08-11T21:15:02.644Z"
   },
   {
    "duration": 115,
    "start_time": "2024-08-11T21:15:03.027Z"
   },
   {
    "duration": 10,
    "start_time": "2024-08-11T21:15:03.145Z"
   },
   {
    "duration": 13,
    "start_time": "2024-08-11T22:20:02.462Z"
   },
   {
    "duration": 1250,
    "start_time": "2024-08-11T22:21:17.216Z"
   },
   {
    "duration": 608,
    "start_time": "2024-08-11T22:21:18.471Z"
   },
   {
    "duration": 18,
    "start_time": "2024-08-11T22:21:19.081Z"
   },
   {
    "duration": 113,
    "start_time": "2024-08-11T22:21:19.114Z"
   },
   {
    "duration": 336,
    "start_time": "2024-08-11T22:21:19.231Z"
   },
   {
    "duration": 142,
    "start_time": "2024-08-11T22:21:19.571Z"
   },
   {
    "duration": 46,
    "start_time": "2024-08-11T22:21:19.716Z"
   },
   {
    "duration": 72,
    "start_time": "2024-08-11T22:21:19.765Z"
   },
   {
    "duration": 148,
    "start_time": "2024-08-11T22:21:19.839Z"
   },
   {
    "duration": 32,
    "start_time": "2024-08-11T22:21:19.989Z"
   },
   {
    "duration": 246,
    "start_time": "2024-08-11T22:21:20.024Z"
   },
   {
    "duration": 17,
    "start_time": "2024-08-11T22:21:20.273Z"
   },
   {
    "duration": 393,
    "start_time": "2024-08-11T22:21:20.293Z"
   },
   {
    "duration": 4,
    "start_time": "2024-08-11T22:21:20.692Z"
   },
   {
    "duration": 7,
    "start_time": "2024-08-11T22:21:20.714Z"
   },
   {
    "duration": 27,
    "start_time": "2024-08-11T22:21:20.724Z"
   },
   {
    "duration": 5,
    "start_time": "2024-08-11T22:21:20.754Z"
   },
   {
    "duration": 8,
    "start_time": "2024-08-11T22:21:20.763Z"
   },
   {
    "duration": 220,
    "start_time": "2024-08-11T22:26:47.002Z"
   },
   {
    "duration": 224,
    "start_time": "2024-08-11T22:27:11.551Z"
   },
   {
    "duration": 314,
    "start_time": "2024-08-11T22:27:50.685Z"
   },
   {
    "duration": 1177,
    "start_time": "2024-08-11T22:28:45.280Z"
   },
   {
    "duration": 621,
    "start_time": "2024-08-11T22:28:46.461Z"
   },
   {
    "duration": 29,
    "start_time": "2024-08-11T22:28:47.085Z"
   },
   {
    "duration": 112,
    "start_time": "2024-08-11T22:28:47.120Z"
   },
   {
    "duration": 340,
    "start_time": "2024-08-11T22:28:47.235Z"
   },
   {
    "duration": 143,
    "start_time": "2024-08-11T22:28:47.577Z"
   },
   {
    "duration": 50,
    "start_time": "2024-08-11T22:28:47.722Z"
   },
   {
    "duration": 68,
    "start_time": "2024-08-11T22:28:47.775Z"
   },
   {
    "duration": 154,
    "start_time": "2024-08-11T22:28:47.846Z"
   },
   {
    "duration": 21,
    "start_time": "2024-08-11T22:28:48.006Z"
   },
   {
    "duration": 265,
    "start_time": "2024-08-11T22:28:48.029Z"
   },
   {
    "duration": 26,
    "start_time": "2024-08-11T22:28:48.297Z"
   },
   {
    "duration": 400,
    "start_time": "2024-08-11T22:28:48.326Z"
   },
   {
    "duration": 6,
    "start_time": "2024-08-11T22:28:48.730Z"
   },
   {
    "duration": 6,
    "start_time": "2024-08-11T22:28:48.740Z"
   },
   {
    "duration": 62,
    "start_time": "2024-08-11T22:28:48.750Z"
   },
   {
    "duration": 6,
    "start_time": "2024-08-11T22:28:48.815Z"
   },
   {
    "duration": 8,
    "start_time": "2024-08-11T22:28:48.824Z"
   },
   {
    "duration": 6,
    "start_time": "2024-08-11T23:11:10.186Z"
   },
   {
    "duration": 5,
    "start_time": "2024-08-11T23:11:37.410Z"
   },
   {
    "duration": 1269,
    "start_time": "2024-08-11T23:41:27.779Z"
   },
   {
    "duration": 607,
    "start_time": "2024-08-11T23:41:29.051Z"
   },
   {
    "duration": 18,
    "start_time": "2024-08-11T23:41:29.661Z"
   },
   {
    "duration": 118,
    "start_time": "2024-08-11T23:41:29.684Z"
   },
   {
    "duration": 331,
    "start_time": "2024-08-11T23:41:29.805Z"
   },
   {
    "duration": 147,
    "start_time": "2024-08-11T23:41:30.139Z"
   },
   {
    "duration": 53,
    "start_time": "2024-08-11T23:41:30.288Z"
   },
   {
    "duration": 70,
    "start_time": "2024-08-11T23:41:30.344Z"
   },
   {
    "duration": 143,
    "start_time": "2024-08-11T23:41:30.416Z"
   },
   {
    "duration": 16,
    "start_time": "2024-08-11T23:41:30.565Z"
   },
   {
    "duration": 276,
    "start_time": "2024-08-11T23:41:30.584Z"
   },
   {
    "duration": 18,
    "start_time": "2024-08-11T23:41:30.863Z"
   },
   {
    "duration": 405,
    "start_time": "2024-08-11T23:41:30.884Z"
   },
   {
    "duration": 7,
    "start_time": "2024-08-11T23:41:31.292Z"
   },
   {
    "duration": 0,
    "start_time": "2024-08-11T23:41:31.314Z"
   },
   {
    "duration": 0,
    "start_time": "2024-08-11T23:41:31.316Z"
   },
   {
    "duration": 4,
    "start_time": "2024-08-11T23:42:50.822Z"
   },
   {
    "duration": 5,
    "start_time": "2024-08-11T23:42:52.906Z"
   },
   {
    "duration": 1203,
    "start_time": "2024-08-11T23:43:17.866Z"
   },
   {
    "duration": 612,
    "start_time": "2024-08-11T23:43:19.072Z"
   },
   {
    "duration": 25,
    "start_time": "2024-08-11T23:43:19.687Z"
   },
   {
    "duration": 112,
    "start_time": "2024-08-11T23:43:19.715Z"
   },
   {
    "duration": 341,
    "start_time": "2024-08-11T23:43:19.832Z"
   },
   {
    "duration": 145,
    "start_time": "2024-08-11T23:43:20.177Z"
   },
   {
    "duration": 50,
    "start_time": "2024-08-11T23:43:20.325Z"
   },
   {
    "duration": 69,
    "start_time": "2024-08-11T23:43:20.378Z"
   },
   {
    "duration": 148,
    "start_time": "2024-08-11T23:43:20.450Z"
   },
   {
    "duration": 24,
    "start_time": "2024-08-11T23:43:20.602Z"
   },
   {
    "duration": 262,
    "start_time": "2024-08-11T23:43:20.629Z"
   },
   {
    "duration": 25,
    "start_time": "2024-08-11T23:43:20.894Z"
   },
   {
    "duration": 404,
    "start_time": "2024-08-11T23:43:20.922Z"
   },
   {
    "duration": 4,
    "start_time": "2024-08-11T23:43:21.332Z"
   },
   {
    "duration": 6,
    "start_time": "2024-08-11T23:43:21.339Z"
   },
   {
    "duration": 0,
    "start_time": "2024-08-11T23:43:21.348Z"
   },
   {
    "duration": 0,
    "start_time": "2024-08-11T23:43:21.350Z"
   },
   {
    "duration": 5,
    "start_time": "2024-08-11T23:44:11.716Z"
   },
   {
    "duration": 1322,
    "start_time": "2024-08-11T23:44:30.799Z"
   },
   {
    "duration": 620,
    "start_time": "2024-08-11T23:44:32.125Z"
   },
   {
    "duration": 18,
    "start_time": "2024-08-11T23:44:32.747Z"
   },
   {
    "duration": 114,
    "start_time": "2024-08-11T23:44:32.768Z"
   },
   {
    "duration": 368,
    "start_time": "2024-08-11T23:44:32.887Z"
   },
   {
    "duration": 148,
    "start_time": "2024-08-11T23:44:33.258Z"
   },
   {
    "duration": 51,
    "start_time": "2024-08-11T23:44:33.410Z"
   },
   {
    "duration": 68,
    "start_time": "2024-08-11T23:44:33.464Z"
   },
   {
    "duration": 161,
    "start_time": "2024-08-11T23:44:33.535Z"
   },
   {
    "duration": 29,
    "start_time": "2024-08-11T23:44:33.698Z"
   },
   {
    "duration": 266,
    "start_time": "2024-08-11T23:44:33.730Z"
   },
   {
    "duration": 23,
    "start_time": "2024-08-11T23:44:33.999Z"
   },
   {
    "duration": 402,
    "start_time": "2024-08-11T23:44:34.025Z"
   },
   {
    "duration": 4,
    "start_time": "2024-08-11T23:44:34.433Z"
   },
   {
    "duration": 6,
    "start_time": "2024-08-11T23:44:34.440Z"
   },
   {
    "duration": 458,
    "start_time": "2024-08-11T23:44:34.448Z"
   },
   {
    "duration": 0,
    "start_time": "2024-08-11T23:44:34.913Z"
   },
   {
    "duration": 6,
    "start_time": "2024-08-11T23:46:12.831Z"
   },
   {
    "duration": 41,
    "start_time": "2024-08-11T23:46:49.306Z"
   },
   {
    "duration": 1213,
    "start_time": "2024-08-11T23:47:07.855Z"
   },
   {
    "duration": 624,
    "start_time": "2024-08-11T23:47:09.073Z"
   },
   {
    "duration": 23,
    "start_time": "2024-08-11T23:47:09.700Z"
   },
   {
    "duration": 122,
    "start_time": "2024-08-11T23:47:09.726Z"
   },
   {
    "duration": 336,
    "start_time": "2024-08-11T23:47:09.853Z"
   },
   {
    "duration": 155,
    "start_time": "2024-08-11T23:47:10.193Z"
   },
   {
    "duration": 63,
    "start_time": "2024-08-11T23:47:10.351Z"
   },
   {
    "duration": 49,
    "start_time": "2024-08-11T23:47:10.416Z"
   },
   {
    "duration": 175,
    "start_time": "2024-08-11T23:47:10.467Z"
   },
   {
    "duration": 17,
    "start_time": "2024-08-11T23:47:10.646Z"
   },
   {
    "duration": 282,
    "start_time": "2024-08-11T23:47:10.666Z"
   },
   {
    "duration": 25,
    "start_time": "2024-08-11T23:47:10.951Z"
   },
   {
    "duration": 401,
    "start_time": "2024-08-11T23:47:10.979Z"
   },
   {
    "duration": 4,
    "start_time": "2024-08-11T23:47:11.385Z"
   },
   {
    "duration": 22,
    "start_time": "2024-08-11T23:47:11.393Z"
   },
   {
    "duration": 0,
    "start_time": "2024-08-11T23:47:11.418Z"
   },
   {
    "duration": 0,
    "start_time": "2024-08-11T23:47:11.421Z"
   },
   {
    "duration": 7,
    "start_time": "2024-08-11T23:47:27.822Z"
   },
   {
    "duration": 1256,
    "start_time": "2024-08-11T23:51:29.607Z"
   },
   {
    "duration": 617,
    "start_time": "2024-08-11T23:51:30.866Z"
   },
   {
    "duration": 28,
    "start_time": "2024-08-11T23:51:31.485Z"
   },
   {
    "duration": 118,
    "start_time": "2024-08-11T23:51:31.516Z"
   },
   {
    "duration": 337,
    "start_time": "2024-08-11T23:51:31.639Z"
   },
   {
    "duration": 142,
    "start_time": "2024-08-11T23:51:31.979Z"
   },
   {
    "duration": 45,
    "start_time": "2024-08-11T23:51:32.124Z"
   },
   {
    "duration": 65,
    "start_time": "2024-08-11T23:51:32.172Z"
   },
   {
    "duration": 157,
    "start_time": "2024-08-11T23:51:32.240Z"
   },
   {
    "duration": 25,
    "start_time": "2024-08-11T23:51:32.400Z"
   },
   {
    "duration": 263,
    "start_time": "2024-08-11T23:51:32.427Z"
   },
   {
    "duration": 26,
    "start_time": "2024-08-11T23:51:32.692Z"
   },
   {
    "duration": 398,
    "start_time": "2024-08-11T23:51:32.721Z"
   },
   {
    "duration": 4,
    "start_time": "2024-08-11T23:51:33.125Z"
   },
   {
    "duration": 6,
    "start_time": "2024-08-11T23:51:33.133Z"
   },
   {
    "duration": 0,
    "start_time": "2024-08-11T23:51:33.143Z"
   },
   {
    "duration": 0,
    "start_time": "2024-08-11T23:51:33.145Z"
   },
   {
    "duration": 8,
    "start_time": "2024-08-11T23:52:37.726Z"
   },
   {
    "duration": 7,
    "start_time": "2024-08-11T23:52:47.147Z"
   },
   {
    "duration": 6,
    "start_time": "2024-08-11T23:53:38.949Z"
   },
   {
    "duration": 1222,
    "start_time": "2024-08-11T23:53:48.251Z"
   },
   {
    "duration": 610,
    "start_time": "2024-08-11T23:53:49.478Z"
   },
   {
    "duration": 29,
    "start_time": "2024-08-11T23:53:50.091Z"
   },
   {
    "duration": 112,
    "start_time": "2024-08-11T23:53:50.124Z"
   },
   {
    "duration": 339,
    "start_time": "2024-08-11T23:53:50.242Z"
   },
   {
    "duration": 144,
    "start_time": "2024-08-11T23:53:50.584Z"
   },
   {
    "duration": 45,
    "start_time": "2024-08-11T23:53:50.731Z"
   },
   {
    "duration": 67,
    "start_time": "2024-08-11T23:53:50.779Z"
   },
   {
    "duration": 153,
    "start_time": "2024-08-11T23:53:50.849Z"
   },
   {
    "duration": 16,
    "start_time": "2024-08-11T23:53:51.013Z"
   },
   {
    "duration": 260,
    "start_time": "2024-08-11T23:53:51.032Z"
   },
   {
    "duration": 27,
    "start_time": "2024-08-11T23:53:51.295Z"
   },
   {
    "duration": 400,
    "start_time": "2024-08-11T23:53:51.325Z"
   },
   {
    "duration": 4,
    "start_time": "2024-08-11T23:53:51.731Z"
   },
   {
    "duration": 6,
    "start_time": "2024-08-11T23:53:51.738Z"
   },
   {
    "duration": 26,
    "start_time": "2024-08-11T23:53:51.747Z"
   },
   {
    "duration": 10,
    "start_time": "2024-08-11T23:53:51.812Z"
   },
   {
    "duration": 331,
    "start_time": "2024-08-12T18:11:47.212Z"
   },
   {
    "duration": 33,
    "start_time": "2024-08-12T18:13:07.505Z"
   },
   {
    "duration": 29,
    "start_time": "2024-08-12T18:13:52.706Z"
   },
   {
    "duration": 5004,
    "start_time": "2024-08-12T18:14:08.930Z"
   },
   {
    "duration": 647,
    "start_time": "2024-08-12T18:14:13.938Z"
   },
   {
    "duration": 27,
    "start_time": "2024-08-12T18:14:14.588Z"
   },
   {
    "duration": 118,
    "start_time": "2024-08-12T18:14:14.617Z"
   },
   {
    "duration": 353,
    "start_time": "2024-08-12T18:14:14.741Z"
   },
   {
    "duration": 147,
    "start_time": "2024-08-12T18:14:15.099Z"
   },
   {
    "duration": 65,
    "start_time": "2024-08-12T18:14:15.249Z"
   },
   {
    "duration": 51,
    "start_time": "2024-08-12T18:14:15.317Z"
   },
   {
    "duration": 178,
    "start_time": "2024-08-12T18:14:15.370Z"
   },
   {
    "duration": 25,
    "start_time": "2024-08-12T18:14:15.551Z"
   },
   {
    "duration": 289,
    "start_time": "2024-08-12T18:14:15.579Z"
   },
   {
    "duration": 19,
    "start_time": "2024-08-12T18:14:15.871Z"
   },
   {
    "duration": 340,
    "start_time": "2024-08-12T18:14:15.893Z"
   },
   {
    "duration": 4,
    "start_time": "2024-08-12T18:14:16.239Z"
   },
   {
    "duration": 6,
    "start_time": "2024-08-12T18:14:16.246Z"
   },
   {
    "duration": 60,
    "start_time": "2024-08-12T18:14:16.256Z"
   },
   {
    "duration": 10,
    "start_time": "2024-08-12T18:14:16.318Z"
   },
   {
    "duration": 137,
    "start_time": "2024-08-12T18:15:45.359Z"
   },
   {
    "duration": 139,
    "start_time": "2024-08-12T18:43:00.189Z"
   },
   {
    "duration": 135,
    "start_time": "2024-08-12T18:43:03.439Z"
   },
   {
    "duration": 134,
    "start_time": "2024-08-12T18:43:08.261Z"
   },
   {
    "duration": 166,
    "start_time": "2024-08-12T18:43:12.960Z"
   },
   {
    "duration": 14,
    "start_time": "2024-08-12T18:43:13.669Z"
   },
   {
    "duration": 219,
    "start_time": "2024-08-12T18:43:18.868Z"
   },
   {
    "duration": 11,
    "start_time": "2024-08-12T18:43:20.719Z"
   },
   {
    "duration": 380,
    "start_time": "2024-08-12T18:43:21.242Z"
   },
   {
    "duration": 4,
    "start_time": "2024-08-12T18:43:22.543Z"
   },
   {
    "duration": 5,
    "start_time": "2024-08-12T18:43:23.186Z"
   },
   {
    "duration": 1301,
    "start_time": "2024-08-12T18:43:34.412Z"
   },
   {
    "duration": 649,
    "start_time": "2024-08-12T18:43:35.717Z"
   },
   {
    "duration": 17,
    "start_time": "2024-08-12T18:43:36.369Z"
   },
   {
    "duration": 116,
    "start_time": "2024-08-12T18:43:36.389Z"
   },
   {
    "duration": 350,
    "start_time": "2024-08-12T18:43:36.516Z"
   },
   {
    "duration": 143,
    "start_time": "2024-08-12T18:43:36.869Z"
   },
   {
    "duration": 60,
    "start_time": "2024-08-12T18:43:37.016Z"
   },
   {
    "duration": 72,
    "start_time": "2024-08-12T18:43:37.079Z"
   },
   {
    "duration": 178,
    "start_time": "2024-08-12T18:43:37.153Z"
   },
   {
    "duration": 15,
    "start_time": "2024-08-12T18:43:37.333Z"
   },
   {
    "duration": 271,
    "start_time": "2024-08-12T18:43:37.351Z"
   },
   {
    "duration": 13,
    "start_time": "2024-08-12T18:43:37.626Z"
   },
   {
    "duration": 423,
    "start_time": "2024-08-12T18:43:37.642Z"
   },
   {
    "duration": 5,
    "start_time": "2024-08-12T18:43:38.071Z"
   },
   {
    "duration": 7,
    "start_time": "2024-08-12T18:43:38.079Z"
   },
   {
    "duration": 21,
    "start_time": "2024-08-12T18:43:38.113Z"
   },
   {
    "duration": 11,
    "start_time": "2024-08-12T18:43:38.139Z"
   },
   {
    "duration": 221,
    "start_time": "2024-08-12T19:39:11.462Z"
   },
   {
    "duration": 11,
    "start_time": "2024-08-12T19:43:29.298Z"
   },
   {
    "duration": 1299,
    "start_time": "2024-08-12T19:49:02.958Z"
   },
   {
    "duration": 647,
    "start_time": "2024-08-12T19:49:04.261Z"
   },
   {
    "duration": 18,
    "start_time": "2024-08-12T19:49:04.911Z"
   },
   {
    "duration": 118,
    "start_time": "2024-08-12T19:49:04.932Z"
   },
   {
    "duration": 359,
    "start_time": "2024-08-12T19:49:05.056Z"
   },
   {
    "duration": 334,
    "start_time": "2024-08-12T19:49:05.417Z"
   },
   {
    "duration": 11,
    "start_time": "2024-08-12T19:49:05.754Z"
   },
   {
    "duration": 44,
    "start_time": "2024-08-12T19:49:05.768Z"
   },
   {
    "duration": 251,
    "start_time": "2024-08-12T19:49:05.814Z"
   },
   {
    "duration": 12,
    "start_time": "2024-08-12T19:49:06.068Z"
   },
   {
    "duration": 343,
    "start_time": "2024-08-12T19:49:06.083Z"
   },
   {
    "duration": 6,
    "start_time": "2024-08-12T19:49:06.428Z"
   },
   {
    "duration": 7,
    "start_time": "2024-08-12T19:49:06.439Z"
   },
   {
    "duration": 22,
    "start_time": "2024-08-12T19:49:06.454Z"
   },
   {
    "duration": 11,
    "start_time": "2024-08-12T19:49:06.514Z"
   },
   {
    "duration": 297,
    "start_time": "2024-08-12T19:58:09.267Z"
   },
   {
    "duration": 12,
    "start_time": "2024-08-12T19:58:19.510Z"
   },
   {
    "duration": 421,
    "start_time": "2024-08-12T19:58:53.861Z"
   },
   {
    "duration": 31,
    "start_time": "2024-08-12T19:59:42.071Z"
   },
   {
    "duration": 42,
    "start_time": "2024-08-12T20:00:16.382Z"
   },
   {
    "duration": 5,
    "start_time": "2024-08-12T20:00:28.328Z"
   },
   {
    "duration": 34,
    "start_time": "2024-08-12T20:00:35.594Z"
   },
   {
    "duration": 64,
    "start_time": "2024-08-12T20:00:41.008Z"
   },
   {
    "duration": 53,
    "start_time": "2024-08-12T20:01:13.466Z"
   },
   {
    "duration": 8,
    "start_time": "2024-08-12T20:02:23.814Z"
   },
   {
    "duration": 30,
    "start_time": "2024-08-12T20:08:07.076Z"
   },
   {
    "duration": 51,
    "start_time": "2024-08-12T20:16:24.045Z"
   },
   {
    "duration": 207,
    "start_time": "2024-08-12T20:51:28.044Z"
   },
   {
    "duration": 277,
    "start_time": "2024-08-12T20:59:51.751Z"
   },
   {
    "duration": 55,
    "start_time": "2024-08-12T21:01:05.059Z"
   },
   {
    "duration": 55,
    "start_time": "2024-08-12T21:03:21.073Z"
   },
   {
    "duration": 325,
    "start_time": "2024-08-12T21:08:29.798Z"
   },
   {
    "duration": 1322,
    "start_time": "2024-08-12T21:09:41.940Z"
   },
   {
    "duration": 714,
    "start_time": "2024-08-12T21:09:43.266Z"
   },
   {
    "duration": 30,
    "start_time": "2024-08-12T21:09:43.983Z"
   },
   {
    "duration": 129,
    "start_time": "2024-08-12T21:09:44.016Z"
   },
   {
    "duration": 365,
    "start_time": "2024-08-12T21:09:44.150Z"
   },
   {
    "duration": 352,
    "start_time": "2024-08-12T21:09:44.519Z"
   },
   {
    "duration": 14,
    "start_time": "2024-08-12T21:09:44.874Z"
   },
   {
    "duration": 185,
    "start_time": "2024-08-12T21:09:44.891Z"
   },
   {
    "duration": 7,
    "start_time": "2024-08-12T21:10:46.068Z"
   },
   {
    "duration": 231,
    "start_time": "2024-08-12T21:13:23.340Z"
   },
   {
    "duration": 12,
    "start_time": "2024-08-12T21:13:43.939Z"
   },
   {
    "duration": 40,
    "start_time": "2024-08-12T21:16:07.239Z"
   },
   {
    "duration": 19,
    "start_time": "2024-08-12T21:17:41.149Z"
   },
   {
    "duration": 11,
    "start_time": "2024-08-12T21:19:34.496Z"
   },
   {
    "duration": 16,
    "start_time": "2024-08-12T21:42:29.153Z"
   },
   {
    "duration": 1251,
    "start_time": "2024-08-12T22:05:02.153Z"
   },
   {
    "duration": 626,
    "start_time": "2024-08-12T22:05:03.412Z"
   },
   {
    "duration": 16,
    "start_time": "2024-08-12T22:05:04.042Z"
   },
   {
    "duration": 136,
    "start_time": "2024-08-12T22:05:04.063Z"
   },
   {
    "duration": 363,
    "start_time": "2024-08-12T22:05:04.215Z"
   },
   {
    "duration": 150,
    "start_time": "2024-08-12T22:05:04.582Z"
   },
   {
    "duration": 49,
    "start_time": "2024-08-12T22:05:04.735Z"
   },
   {
    "duration": 504,
    "start_time": "2024-08-12T22:05:04.787Z"
   },
   {
    "duration": 0,
    "start_time": "2024-08-12T22:05:05.295Z"
   },
   {
    "duration": 0,
    "start_time": "2024-08-12T22:05:05.298Z"
   },
   {
    "duration": 0,
    "start_time": "2024-08-12T22:05:05.300Z"
   },
   {
    "duration": 0,
    "start_time": "2024-08-12T22:05:05.313Z"
   },
   {
    "duration": 0,
    "start_time": "2024-08-12T22:05:05.316Z"
   },
   {
    "duration": 0,
    "start_time": "2024-08-12T22:05:05.319Z"
   },
   {
    "duration": 0,
    "start_time": "2024-08-12T22:05:05.320Z"
   },
   {
    "duration": 0,
    "start_time": "2024-08-12T22:05:05.323Z"
   },
   {
    "duration": 0,
    "start_time": "2024-08-12T22:05:05.325Z"
   },
   {
    "duration": 1,
    "start_time": "2024-08-12T22:05:05.327Z"
   },
   {
    "duration": 1226,
    "start_time": "2024-08-12T22:06:50.967Z"
   },
   {
    "duration": 623,
    "start_time": "2024-08-12T22:06:52.196Z"
   },
   {
    "duration": 18,
    "start_time": "2024-08-12T22:06:52.821Z"
   },
   {
    "duration": 136,
    "start_time": "2024-08-12T22:06:52.843Z"
   },
   {
    "duration": 375,
    "start_time": "2024-08-12T22:06:52.984Z"
   },
   {
    "duration": 144,
    "start_time": "2024-08-12T22:06:53.363Z"
   },
   {
    "duration": 49,
    "start_time": "2024-08-12T22:06:53.514Z"
   },
   {
    "duration": 523,
    "start_time": "2024-08-12T22:06:53.566Z"
   },
   {
    "duration": 1,
    "start_time": "2024-08-12T22:06:54.093Z"
   },
   {
    "duration": 0,
    "start_time": "2024-08-12T22:06:54.095Z"
   },
   {
    "duration": 0,
    "start_time": "2024-08-12T22:06:54.111Z"
   },
   {
    "duration": 0,
    "start_time": "2024-08-12T22:06:54.114Z"
   },
   {
    "duration": 0,
    "start_time": "2024-08-12T22:06:54.117Z"
   },
   {
    "duration": 0,
    "start_time": "2024-08-12T22:06:54.119Z"
   },
   {
    "duration": 0,
    "start_time": "2024-08-12T22:06:54.122Z"
   },
   {
    "duration": 1,
    "start_time": "2024-08-12T22:06:54.123Z"
   },
   {
    "duration": 0,
    "start_time": "2024-08-12T22:06:54.125Z"
   },
   {
    "duration": 0,
    "start_time": "2024-08-12T22:06:54.128Z"
   },
   {
    "duration": 1301,
    "start_time": "2024-08-12T22:08:33.355Z"
   },
   {
    "duration": 631,
    "start_time": "2024-08-12T22:08:34.660Z"
   },
   {
    "duration": 23,
    "start_time": "2024-08-12T22:08:35.293Z"
   },
   {
    "duration": 131,
    "start_time": "2024-08-12T22:08:35.321Z"
   },
   {
    "duration": 365,
    "start_time": "2024-08-12T22:08:35.456Z"
   },
   {
    "duration": 184,
    "start_time": "2024-08-12T22:08:35.824Z"
   },
   {
    "duration": 501,
    "start_time": "2024-08-12T22:08:36.013Z"
   },
   {
    "duration": 0,
    "start_time": "2024-08-12T22:08:36.517Z"
   },
   {
    "duration": 0,
    "start_time": "2024-08-12T22:08:36.520Z"
   },
   {
    "duration": 0,
    "start_time": "2024-08-12T22:08:36.522Z"
   },
   {
    "duration": 0,
    "start_time": "2024-08-12T22:08:36.524Z"
   },
   {
    "duration": 0,
    "start_time": "2024-08-12T22:08:36.527Z"
   },
   {
    "duration": 0,
    "start_time": "2024-08-12T22:08:36.529Z"
   },
   {
    "duration": 0,
    "start_time": "2024-08-12T22:08:36.533Z"
   },
   {
    "duration": 0,
    "start_time": "2024-08-12T22:08:36.534Z"
   },
   {
    "duration": 0,
    "start_time": "2024-08-12T22:08:36.536Z"
   },
   {
    "duration": 0,
    "start_time": "2024-08-12T22:08:36.538Z"
   },
   {
    "duration": 11,
    "start_time": "2024-08-12T22:09:32.405Z"
   },
   {
    "duration": 39,
    "start_time": "2024-08-12T22:09:51.057Z"
   },
   {
    "duration": 30,
    "start_time": "2024-08-12T22:10:06.013Z"
   },
   {
    "duration": 12,
    "start_time": "2024-08-12T22:15:07.079Z"
   },
   {
    "duration": 11,
    "start_time": "2024-08-12T22:17:31.680Z"
   },
   {
    "duration": 30,
    "start_time": "2024-08-12T22:17:48.842Z"
   },
   {
    "duration": 1363,
    "start_time": "2024-08-12T22:19:05.333Z"
   },
   {
    "duration": 708,
    "start_time": "2024-08-12T22:19:06.700Z"
   },
   {
    "duration": 22,
    "start_time": "2024-08-12T22:19:07.411Z"
   },
   {
    "duration": 137,
    "start_time": "2024-08-12T22:19:07.436Z"
   },
   {
    "duration": 375,
    "start_time": "2024-08-12T22:19:07.578Z"
   },
   {
    "duration": 201,
    "start_time": "2024-08-12T22:19:07.955Z"
   },
   {
    "duration": 12,
    "start_time": "2024-08-12T22:19:08.159Z"
   },
   {
    "duration": 511,
    "start_time": "2024-08-12T22:19:08.175Z"
   },
   {
    "duration": 619,
    "start_time": "2024-08-12T22:23:03.621Z"
   },
   {
    "duration": 584,
    "start_time": "2024-08-12T22:24:07.213Z"
   },
   {
    "duration": 1269,
    "start_time": "2024-08-12T22:24:18.623Z"
   },
   {
    "duration": 642,
    "start_time": "2024-08-12T22:24:19.896Z"
   },
   {
    "duration": 508,
    "start_time": "2024-08-12T22:24:20.544Z"
   },
   {
    "duration": 0,
    "start_time": "2024-08-12T22:24:21.056Z"
   },
   {
    "duration": 0,
    "start_time": "2024-08-12T22:24:21.058Z"
   },
   {
    "duration": 0,
    "start_time": "2024-08-12T22:24:21.061Z"
   },
   {
    "duration": 0,
    "start_time": "2024-08-12T22:24:21.063Z"
   },
   {
    "duration": 0,
    "start_time": "2024-08-12T22:24:21.065Z"
   },
   {
    "duration": 0,
    "start_time": "2024-08-12T22:24:21.067Z"
   },
   {
    "duration": 0,
    "start_time": "2024-08-12T22:24:21.069Z"
   },
   {
    "duration": 0,
    "start_time": "2024-08-12T22:24:21.071Z"
   },
   {
    "duration": 0,
    "start_time": "2024-08-12T22:24:21.073Z"
   },
   {
    "duration": 0,
    "start_time": "2024-08-12T22:24:21.075Z"
   },
   {
    "duration": 0,
    "start_time": "2024-08-12T22:24:21.114Z"
   },
   {
    "duration": 0,
    "start_time": "2024-08-12T22:24:21.117Z"
   },
   {
    "duration": 0,
    "start_time": "2024-08-12T22:24:21.119Z"
   },
   {
    "duration": 7,
    "start_time": "2024-08-12T22:24:56.221Z"
   },
   {
    "duration": 622,
    "start_time": "2024-08-12T22:25:05.701Z"
   },
   {
    "duration": 17,
    "start_time": "2024-08-12T22:25:08.236Z"
   },
   {
    "duration": 169,
    "start_time": "2024-08-12T22:25:13.295Z"
   },
   {
    "duration": 610,
    "start_time": "2024-08-12T22:25:17.279Z"
   },
   {
    "duration": 12,
    "start_time": "2024-08-12T22:25:25.432Z"
   },
   {
    "duration": 40,
    "start_time": "2024-08-12T22:25:28.082Z"
   },
   {
    "duration": 30,
    "start_time": "2024-08-12T22:27:18.659Z"
   },
   {
    "duration": 1238,
    "start_time": "2024-08-12T22:29:03.167Z"
   },
   {
    "duration": 620,
    "start_time": "2024-08-12T22:29:04.413Z"
   },
   {
    "duration": 492,
    "start_time": "2024-08-12T22:29:05.036Z"
   },
   {
    "duration": 0,
    "start_time": "2024-08-12T22:29:05.532Z"
   },
   {
    "duration": 0,
    "start_time": "2024-08-12T22:29:05.535Z"
   },
   {
    "duration": 0,
    "start_time": "2024-08-12T22:29:05.537Z"
   },
   {
    "duration": 0,
    "start_time": "2024-08-12T22:29:05.540Z"
   },
   {
    "duration": 0,
    "start_time": "2024-08-12T22:29:05.544Z"
   },
   {
    "duration": 0,
    "start_time": "2024-08-12T22:29:05.545Z"
   },
   {
    "duration": 0,
    "start_time": "2024-08-12T22:29:05.548Z"
   },
   {
    "duration": 0,
    "start_time": "2024-08-12T22:29:05.550Z"
   },
   {
    "duration": 0,
    "start_time": "2024-08-12T22:29:05.552Z"
   },
   {
    "duration": 0,
    "start_time": "2024-08-12T22:29:05.553Z"
   },
   {
    "duration": 0,
    "start_time": "2024-08-12T22:29:05.556Z"
   },
   {
    "duration": 0,
    "start_time": "2024-08-12T22:29:05.558Z"
   },
   {
    "duration": 0,
    "start_time": "2024-08-12T22:29:05.560Z"
   },
   {
    "duration": 667,
    "start_time": "2024-08-12T22:29:50.818Z"
   },
   {
    "duration": 18,
    "start_time": "2024-08-12T22:29:51.703Z"
   },
   {
    "duration": 116,
    "start_time": "2024-08-12T22:30:21.717Z"
   },
   {
    "duration": 328,
    "start_time": "2024-08-12T22:30:22.098Z"
   },
   {
    "duration": 169,
    "start_time": "2024-08-12T22:30:24.477Z"
   },
   {
    "duration": 12,
    "start_time": "2024-08-12T22:30:27.638Z"
   },
   {
    "duration": 19,
    "start_time": "2024-08-12T22:30:28.894Z"
   },
   {
    "duration": 1308,
    "start_time": "2024-08-12T22:33:41.524Z"
   },
   {
    "duration": 655,
    "start_time": "2024-08-12T22:33:42.836Z"
   },
   {
    "duration": 30,
    "start_time": "2024-08-12T22:33:43.494Z"
   },
   {
    "duration": 139,
    "start_time": "2024-08-12T22:33:43.529Z"
   },
   {
    "duration": 377,
    "start_time": "2024-08-12T22:33:43.673Z"
   },
   {
    "duration": 210,
    "start_time": "2024-08-12T22:33:44.054Z"
   },
   {
    "duration": 12,
    "start_time": "2024-08-12T22:33:44.267Z"
   },
   {
    "duration": 30,
    "start_time": "2024-08-12T22:33:44.282Z"
   },
   {
    "duration": 17,
    "start_time": "2024-08-12T22:33:44.316Z"
   },
   {
    "duration": 518,
    "start_time": "2024-08-12T22:33:44.335Z"
   },
   {
    "duration": 0,
    "start_time": "2024-08-12T22:33:44.856Z"
   },
   {
    "duration": 0,
    "start_time": "2024-08-12T22:33:44.859Z"
   },
   {
    "duration": 0,
    "start_time": "2024-08-12T22:33:44.860Z"
   },
   {
    "duration": 0,
    "start_time": "2024-08-12T22:33:44.863Z"
   },
   {
    "duration": 0,
    "start_time": "2024-08-12T22:33:44.864Z"
   },
   {
    "duration": 0,
    "start_time": "2024-08-12T22:33:44.867Z"
   },
   {
    "duration": 0,
    "start_time": "2024-08-12T22:33:44.869Z"
   },
   {
    "duration": 7,
    "start_time": "2024-08-12T22:34:16.826Z"
   },
   {
    "duration": 14,
    "start_time": "2024-08-12T22:34:45.404Z"
   },
   {
    "duration": 16,
    "start_time": "2024-08-12T22:35:35.833Z"
   },
   {
    "duration": 1217,
    "start_time": "2024-08-12T22:36:17.754Z"
   },
   {
    "duration": 640,
    "start_time": "2024-08-12T22:36:18.974Z"
   },
   {
    "duration": 17,
    "start_time": "2024-08-12T22:36:19.617Z"
   },
   {
    "duration": 134,
    "start_time": "2024-08-12T22:36:19.638Z"
   },
   {
    "duration": 457,
    "start_time": "2024-08-12T22:36:19.778Z"
   },
   {
    "duration": 220,
    "start_time": "2024-08-12T22:36:20.239Z"
   },
   {
    "duration": 13,
    "start_time": "2024-08-12T22:36:20.461Z"
   },
   {
    "duration": 6,
    "start_time": "2024-08-12T22:36:20.478Z"
   },
   {
    "duration": 17,
    "start_time": "2024-08-12T22:36:20.516Z"
   },
   {
    "duration": 527,
    "start_time": "2024-08-12T22:36:20.536Z"
   },
   {
    "duration": 0,
    "start_time": "2024-08-12T22:36:21.067Z"
   },
   {
    "duration": 0,
    "start_time": "2024-08-12T22:36:21.069Z"
   },
   {
    "duration": 0,
    "start_time": "2024-08-12T22:36:21.071Z"
   },
   {
    "duration": 0,
    "start_time": "2024-08-12T22:36:21.072Z"
   },
   {
    "duration": 0,
    "start_time": "2024-08-12T22:36:21.076Z"
   },
   {
    "duration": 1,
    "start_time": "2024-08-12T22:36:21.078Z"
   },
   {
    "duration": 0,
    "start_time": "2024-08-12T22:36:21.081Z"
   },
   {
    "duration": 28,
    "start_time": "2024-08-12T22:39:05.566Z"
   },
   {
    "duration": 23,
    "start_time": "2024-08-12T22:39:13.947Z"
   },
   {
    "duration": 30,
    "start_time": "2024-08-12T22:39:29.385Z"
   },
   {
    "duration": 28,
    "start_time": "2024-08-12T22:41:39.259Z"
   },
   {
    "duration": 67,
    "start_time": "2024-08-12T22:44:45.788Z"
   },
   {
    "duration": 27,
    "start_time": "2024-08-12T22:47:31.347Z"
   },
   {
    "duration": 1215,
    "start_time": "2024-08-12T22:50:27.269Z"
   },
   {
    "duration": 629,
    "start_time": "2024-08-12T22:50:28.487Z"
   },
   {
    "duration": 16,
    "start_time": "2024-08-12T22:50:29.119Z"
   },
   {
    "duration": 128,
    "start_time": "2024-08-12T22:50:29.139Z"
   },
   {
    "duration": 349,
    "start_time": "2024-08-12T22:50:29.272Z"
   },
   {
    "duration": 194,
    "start_time": "2024-08-12T22:50:29.625Z"
   },
   {
    "duration": 13,
    "start_time": "2024-08-12T22:50:29.822Z"
   },
   {
    "duration": 7,
    "start_time": "2024-08-12T22:50:29.838Z"
   },
   {
    "duration": 65,
    "start_time": "2024-08-12T22:50:29.848Z"
   },
   {
    "duration": 25,
    "start_time": "2024-08-12T22:50:29.915Z"
   },
   {
    "duration": 29,
    "start_time": "2024-08-12T22:50:29.943Z"
   },
   {
    "duration": 25,
    "start_time": "2024-08-12T22:56:15.798Z"
   },
   {
    "duration": 8,
    "start_time": "2024-08-12T22:56:37.098Z"
   },
   {
    "duration": 27,
    "start_time": "2024-08-12T22:56:56.024Z"
   },
   {
    "duration": 11,
    "start_time": "2024-08-12T22:57:28.152Z"
   },
   {
    "duration": 1305,
    "start_time": "2024-08-12T23:06:57.522Z"
   },
   {
    "duration": 621,
    "start_time": "2024-08-12T23:06:58.833Z"
   },
   {
    "duration": 17,
    "start_time": "2024-08-12T23:06:59.460Z"
   },
   {
    "duration": 132,
    "start_time": "2024-08-12T23:06:59.480Z"
   },
   {
    "duration": 346,
    "start_time": "2024-08-12T23:06:59.616Z"
   },
   {
    "duration": 197,
    "start_time": "2024-08-12T23:06:59.965Z"
   },
   {
    "duration": 11,
    "start_time": "2024-08-12T23:07:00.165Z"
   },
   {
    "duration": 1064,
    "start_time": "2024-08-12T23:07:00.179Z"
   },
   {
    "duration": 87,
    "start_time": "2024-08-12T23:08:07.548Z"
   },
   {
    "duration": 1248,
    "start_time": "2024-08-12T23:15:41.522Z"
   },
   {
    "duration": 675,
    "start_time": "2024-08-12T23:15:42.774Z"
   },
   {
    "duration": 20,
    "start_time": "2024-08-12T23:15:43.454Z"
   },
   {
    "duration": 139,
    "start_time": "2024-08-12T23:15:43.478Z"
   },
   {
    "duration": 355,
    "start_time": "2024-08-12T23:15:43.621Z"
   },
   {
    "duration": 195,
    "start_time": "2024-08-12T23:15:43.980Z"
   },
   {
    "duration": 13,
    "start_time": "2024-08-12T23:15:44.178Z"
   },
   {
    "duration": 19,
    "start_time": "2024-08-12T23:15:44.195Z"
   },
   {
    "duration": 18,
    "start_time": "2024-08-12T23:15:44.216Z"
   },
   {
    "duration": 80,
    "start_time": "2024-08-12T23:15:44.238Z"
   },
   {
    "duration": 30,
    "start_time": "2024-08-12T23:15:44.321Z"
   },
   {
    "duration": 69,
    "start_time": "2024-08-12T23:15:44.354Z"
   },
   {
    "duration": 7,
    "start_time": "2024-08-12T23:15:44.426Z"
   },
   {
    "duration": 24,
    "start_time": "2024-08-12T23:15:44.442Z"
   },
   {
    "duration": 52,
    "start_time": "2024-08-12T23:15:44.469Z"
   },
   {
    "duration": 492,
    "start_time": "2024-08-12T23:15:44.524Z"
   },
   {
    "duration": 0,
    "start_time": "2024-08-12T23:15:45.020Z"
   },
   {
    "duration": 0,
    "start_time": "2024-08-12T23:15:45.022Z"
   },
   {
    "duration": 0,
    "start_time": "2024-08-12T23:15:45.025Z"
   },
   {
    "duration": 0,
    "start_time": "2024-08-12T23:15:45.027Z"
   },
   {
    "duration": 0,
    "start_time": "2024-08-12T23:15:45.029Z"
   },
   {
    "duration": 0,
    "start_time": "2024-08-12T23:15:45.031Z"
   },
   {
    "duration": 0,
    "start_time": "2024-08-12T23:15:45.034Z"
   },
   {
    "duration": 53,
    "start_time": "2024-08-12T23:16:47.245Z"
   },
   {
    "duration": 390,
    "start_time": "2024-08-12T23:18:18.474Z"
   },
   {
    "duration": 864,
    "start_time": "2024-08-12T23:18:24.735Z"
   },
   {
    "duration": 190,
    "start_time": "2024-08-12T23:19:21.806Z"
   },
   {
    "duration": 36,
    "start_time": "2024-08-12T23:19:31.525Z"
   },
   {
    "duration": 514,
    "start_time": "2024-08-12T23:19:43.186Z"
   },
   {
    "duration": 16,
    "start_time": "2024-08-12T23:21:24.276Z"
   },
   {
    "duration": 48,
    "start_time": "2024-08-12T23:32:30.482Z"
   },
   {
    "duration": 81,
    "start_time": "2024-08-12T23:32:32.578Z"
   },
   {
    "duration": 195,
    "start_time": "2024-08-12T23:36:39.798Z"
   },
   {
    "duration": 71,
    "start_time": "2024-08-12T23:36:43.825Z"
   },
   {
    "duration": 77,
    "start_time": "2024-08-12T23:37:27.662Z"
   },
   {
    "duration": 33,
    "start_time": "2024-08-12T23:37:50.920Z"
   },
   {
    "duration": 27,
    "start_time": "2024-08-12T23:38:11.243Z"
   },
   {
    "duration": 386,
    "start_time": "2024-08-12T23:38:26.203Z"
   },
   {
    "duration": 14,
    "start_time": "2024-08-12T23:39:18.103Z"
   },
   {
    "duration": 26,
    "start_time": "2024-08-12T23:39:53.856Z"
   },
   {
    "duration": 24,
    "start_time": "2024-08-13T00:55:10.589Z"
   },
   {
    "duration": 26,
    "start_time": "2024-08-13T00:57:26.979Z"
   },
   {
    "duration": 24,
    "start_time": "2024-08-13T01:02:48.630Z"
   },
   {
    "duration": 168,
    "start_time": "2024-08-13T01:04:30.436Z"
   },
   {
    "duration": 106,
    "start_time": "2024-08-13T01:04:56.666Z"
   },
   {
    "duration": 1582,
    "start_time": "2024-08-13T01:05:53.094Z"
   },
   {
    "duration": 212,
    "start_time": "2024-08-13T01:06:56.571Z"
   },
   {
    "duration": 1322,
    "start_time": "2024-08-13T01:08:22.050Z"
   },
   {
    "duration": 640,
    "start_time": "2024-08-13T01:08:23.376Z"
   },
   {
    "duration": 18,
    "start_time": "2024-08-13T01:08:24.020Z"
   },
   {
    "duration": 143,
    "start_time": "2024-08-13T01:08:24.042Z"
   },
   {
    "duration": 380,
    "start_time": "2024-08-13T01:08:24.191Z"
   },
   {
    "duration": 210,
    "start_time": "2024-08-13T01:08:24.575Z"
   },
   {
    "duration": 23,
    "start_time": "2024-08-13T01:08:24.789Z"
   },
   {
    "duration": 7,
    "start_time": "2024-08-13T01:08:24.815Z"
   },
   {
    "duration": 18,
    "start_time": "2024-08-13T01:08:24.825Z"
   },
   {
    "duration": 81,
    "start_time": "2024-08-13T01:08:24.847Z"
   },
   {
    "duration": 28,
    "start_time": "2024-08-13T01:08:24.931Z"
   },
   {
    "duration": 61,
    "start_time": "2024-08-13T01:08:24.963Z"
   },
   {
    "duration": 9,
    "start_time": "2024-08-13T01:08:25.028Z"
   },
   {
    "duration": 21,
    "start_time": "2024-08-13T01:08:25.044Z"
   },
   {
    "duration": 50,
    "start_time": "2024-08-13T01:08:25.068Z"
   },
   {
    "duration": 425,
    "start_time": "2024-08-13T01:08:32.809Z"
   },
   {
    "duration": 64,
    "start_time": "2024-08-13T01:10:00.085Z"
   },
   {
    "duration": 521,
    "start_time": "2024-08-13T01:14:14.512Z"
   },
   {
    "duration": 1061,
    "start_time": "2024-08-13T01:14:29.799Z"
   },
   {
    "duration": 419,
    "start_time": "2024-08-13T01:16:40.222Z"
   },
   {
    "duration": 12,
    "start_time": "2024-08-13T01:17:38.957Z"
   },
   {
    "duration": 11,
    "start_time": "2024-08-13T01:17:52.737Z"
   },
   {
    "duration": 11,
    "start_time": "2024-08-13T01:18:32.918Z"
   },
   {
    "duration": 59,
    "start_time": "2024-08-13T01:18:52.173Z"
   },
   {
    "duration": 155,
    "start_time": "2024-08-13T01:21:11.566Z"
   },
   {
    "duration": 236,
    "start_time": "2024-08-13T01:23:15.347Z"
   },
   {
    "duration": 30,
    "start_time": "2024-08-13T01:24:46.606Z"
   },
   {
    "duration": 30,
    "start_time": "2024-08-13T01:24:58.055Z"
   },
   {
    "duration": 28,
    "start_time": "2024-08-13T01:25:10.241Z"
   },
   {
    "duration": 20,
    "start_time": "2024-08-13T01:28:03.273Z"
   },
   {
    "duration": 20,
    "start_time": "2024-08-13T01:30:58.973Z"
   },
   {
    "duration": 112,
    "start_time": "2024-08-13T01:33:14.409Z"
   },
   {
    "duration": 209,
    "start_time": "2024-08-13T01:34:29.554Z"
   },
   {
    "duration": 346,
    "start_time": "2024-08-13T01:38:18.598Z"
   },
   {
    "duration": 2237,
    "start_time": "2024-08-13T01:39:09.120Z"
   },
   {
    "duration": 26,
    "start_time": "2024-08-13T01:41:17.517Z"
   },
   {
    "duration": 30,
    "start_time": "2024-08-13T01:41:30.778Z"
   },
   {
    "duration": 348,
    "start_time": "2024-08-13T01:52:58.964Z"
   },
   {
    "duration": 9,
    "start_time": "2024-08-13T01:53:50.677Z"
   },
   {
    "duration": 30,
    "start_time": "2024-08-13T01:54:06.858Z"
   },
   {
    "duration": 31,
    "start_time": "2024-08-13T01:54:33.093Z"
   },
   {
    "duration": 32,
    "start_time": "2024-08-13T01:55:07.671Z"
   },
   {
    "duration": 9,
    "start_time": "2024-08-13T01:55:21.698Z"
   },
   {
    "duration": 368,
    "start_time": "2024-08-13T01:56:08.764Z"
   },
   {
    "duration": 783,
    "start_time": "2024-08-13T02:01:47.044Z"
   },
   {
    "duration": 33,
    "start_time": "2024-08-13T02:02:16.431Z"
   },
   {
    "duration": 35,
    "start_time": "2024-08-13T02:06:34.805Z"
   },
   {
    "duration": 147,
    "start_time": "2024-08-13T02:06:49.169Z"
   },
   {
    "duration": 14,
    "start_time": "2024-08-13T02:12:16.092Z"
   },
   {
    "duration": 15,
    "start_time": "2024-08-13T02:12:33.311Z"
   },
   {
    "duration": 29,
    "start_time": "2024-08-13T02:17:22.096Z"
   },
   {
    "duration": 103,
    "start_time": "2024-08-13T02:17:37.309Z"
   },
   {
    "duration": 19,
    "start_time": "2024-08-13T02:17:52.359Z"
   },
   {
    "duration": 29,
    "start_time": "2024-08-13T02:24:52.348Z"
   },
   {
    "duration": 862,
    "start_time": "2024-08-13T02:25:59.443Z"
   },
   {
    "duration": 5,
    "start_time": "2024-08-13T02:26:58.125Z"
   },
   {
    "duration": 411,
    "start_time": "2024-08-13T02:28:59.192Z"
   },
   {
    "duration": 206,
    "start_time": "2024-08-13T02:29:27.277Z"
   },
   {
    "duration": 196,
    "start_time": "2024-08-13T02:30:21.059Z"
   },
   {
    "duration": 199,
    "start_time": "2024-08-13T02:30:33.576Z"
   },
   {
    "duration": 113,
    "start_time": "2024-08-13T02:31:15.799Z"
   },
   {
    "duration": 10,
    "start_time": "2024-08-13T02:32:11.384Z"
   },
   {
    "duration": 108,
    "start_time": "2024-08-13T02:32:50.559Z"
   },
   {
    "duration": 311,
    "start_time": "2024-08-13T02:33:35.609Z"
   },
   {
    "duration": 147,
    "start_time": "2024-08-13T02:43:41.551Z"
   },
   {
    "duration": 1257,
    "start_time": "2024-08-13T02:44:26.415Z"
   },
   {
    "duration": 645,
    "start_time": "2024-08-13T02:44:27.675Z"
   },
   {
    "duration": 20,
    "start_time": "2024-08-13T02:44:28.323Z"
   },
   {
    "duration": 131,
    "start_time": "2024-08-13T02:44:28.346Z"
   },
   {
    "duration": 356,
    "start_time": "2024-08-13T02:44:28.484Z"
   },
   {
    "duration": 191,
    "start_time": "2024-08-13T02:44:28.844Z"
   },
   {
    "duration": 11,
    "start_time": "2024-08-13T02:44:29.038Z"
   },
   {
    "duration": 6,
    "start_time": "2024-08-13T02:44:29.052Z"
   },
   {
    "duration": 54,
    "start_time": "2024-08-13T02:44:29.061Z"
   },
   {
    "duration": 24,
    "start_time": "2024-08-13T02:44:29.119Z"
   },
   {
    "duration": 68,
    "start_time": "2024-08-13T02:44:29.146Z"
   },
   {
    "duration": 23,
    "start_time": "2024-08-13T02:44:29.217Z"
   },
   {
    "duration": 7,
    "start_time": "2024-08-13T02:44:29.242Z"
   },
   {
    "duration": 66,
    "start_time": "2024-08-13T02:44:29.256Z"
   },
   {
    "duration": 10,
    "start_time": "2024-08-13T02:44:29.326Z"
   },
   {
    "duration": 221,
    "start_time": "2024-08-13T02:44:29.340Z"
   },
   {
    "duration": 259,
    "start_time": "2024-08-13T02:44:29.564Z"
   },
   {
    "duration": 20,
    "start_time": "2024-08-13T02:44:29.827Z"
   },
   {
    "duration": 21,
    "start_time": "2024-08-13T02:44:29.850Z"
   },
   {
    "duration": 111,
    "start_time": "2024-08-13T02:44:29.913Z"
   },
   {
    "duration": 219,
    "start_time": "2024-08-13T02:44:30.026Z"
   },
   {
    "duration": 412,
    "start_time": "2024-08-13T02:44:30.248Z"
   },
   {
    "duration": 18,
    "start_time": "2024-08-13T02:44:30.663Z"
   },
   {
    "duration": 38,
    "start_time": "2024-08-13T02:44:30.683Z"
   },
   {
    "duration": 31,
    "start_time": "2024-08-13T02:44:30.724Z"
   },
   {
    "duration": 142,
    "start_time": "2024-08-13T02:44:30.758Z"
   },
   {
    "duration": 21,
    "start_time": "2024-08-13T02:44:30.913Z"
   },
   {
    "duration": 5,
    "start_time": "2024-08-13T02:44:30.937Z"
   },
   {
    "duration": 458,
    "start_time": "2024-08-13T02:44:30.944Z"
   },
   {
    "duration": 223,
    "start_time": "2024-08-13T02:44:31.405Z"
   },
   {
    "duration": 103,
    "start_time": "2024-08-13T02:44:31.632Z"
   },
   {
    "duration": 10,
    "start_time": "2024-08-13T02:44:31.739Z"
   },
   {
    "duration": 588,
    "start_time": "2024-08-13T02:44:31.752Z"
   },
   {
    "duration": 0,
    "start_time": "2024-08-13T02:44:32.343Z"
   },
   {
    "duration": 0,
    "start_time": "2024-08-13T02:44:32.345Z"
   },
   {
    "duration": 0,
    "start_time": "2024-08-13T02:44:32.348Z"
   },
   {
    "duration": 0,
    "start_time": "2024-08-13T02:44:32.351Z"
   },
   {
    "duration": 0,
    "start_time": "2024-08-13T02:44:32.354Z"
   },
   {
    "duration": 0,
    "start_time": "2024-08-13T02:44:32.356Z"
   },
   {
    "duration": 0,
    "start_time": "2024-08-13T02:44:32.358Z"
   },
   {
    "duration": 0,
    "start_time": "2024-08-13T02:44:32.361Z"
   },
   {
    "duration": 303,
    "start_time": "2024-08-13T02:47:17.548Z"
   },
   {
    "duration": 88,
    "start_time": "2024-08-13T02:47:53.977Z"
   },
   {
    "duration": 155,
    "start_time": "2024-08-13T03:22:17.674Z"
   },
   {
    "duration": 157,
    "start_time": "2024-08-13T03:23:05.580Z"
   },
   {
    "duration": 14,
    "start_time": "2024-08-13T03:27:27.127Z"
   },
   {
    "duration": 87,
    "start_time": "2024-08-13T03:46:09.244Z"
   },
   {
    "duration": 32,
    "start_time": "2024-08-13T03:46:22.419Z"
   },
   {
    "duration": 40,
    "start_time": "2024-08-13T03:47:29.316Z"
   },
   {
    "duration": 217,
    "start_time": "2024-08-13T03:47:38.955Z"
   },
   {
    "duration": 38,
    "start_time": "2024-08-13T03:48:06.926Z"
   },
   {
    "duration": 14,
    "start_time": "2024-08-13T03:48:26.321Z"
   },
   {
    "duration": 236,
    "start_time": "2024-08-13T03:49:12.334Z"
   },
   {
    "duration": 15,
    "start_time": "2024-08-13T03:50:22.133Z"
   },
   {
    "duration": 35,
    "start_time": "2024-08-13T03:51:45.118Z"
   },
   {
    "duration": 35,
    "start_time": "2024-08-13T03:52:39.210Z"
   },
   {
    "duration": 424,
    "start_time": "2024-08-13T03:53:30.148Z"
   },
   {
    "duration": 490,
    "start_time": "2024-08-13T03:55:05.439Z"
   },
   {
    "duration": 419,
    "start_time": "2024-08-13T03:55:59.954Z"
   },
   {
    "duration": 422,
    "start_time": "2024-08-13T03:58:47.222Z"
   },
   {
    "duration": 5,
    "start_time": "2024-08-13T03:59:12.705Z"
   },
   {
    "duration": 5,
    "start_time": "2024-08-13T03:59:18.647Z"
   },
   {
    "duration": 214,
    "start_time": "2024-08-13T03:59:36.008Z"
   },
   {
    "duration": 1298,
    "start_time": "2024-08-13T04:01:12.651Z"
   },
   {
    "duration": 662,
    "start_time": "2024-08-13T04:01:13.953Z"
   },
   {
    "duration": 18,
    "start_time": "2024-08-13T04:01:14.617Z"
   },
   {
    "duration": 124,
    "start_time": "2024-08-13T04:01:14.639Z"
   },
   {
    "duration": 351,
    "start_time": "2024-08-13T04:01:14.768Z"
   },
   {
    "duration": 201,
    "start_time": "2024-08-13T04:01:15.122Z"
   },
   {
    "duration": 12,
    "start_time": "2024-08-13T04:01:15.325Z"
   },
   {
    "duration": 6,
    "start_time": "2024-08-13T04:01:15.341Z"
   },
   {
    "duration": 18,
    "start_time": "2024-08-13T04:01:15.351Z"
   },
   {
    "duration": 24,
    "start_time": "2024-08-13T04:01:15.413Z"
   },
   {
    "duration": 27,
    "start_time": "2024-08-13T04:01:15.440Z"
   },
   {
    "duration": 55,
    "start_time": "2024-08-13T04:01:15.470Z"
   },
   {
    "duration": 7,
    "start_time": "2024-08-13T04:01:15.528Z"
   },
   {
    "duration": 21,
    "start_time": "2024-08-13T04:01:15.542Z"
   },
   {
    "duration": 51,
    "start_time": "2024-08-13T04:01:15.566Z"
   },
   {
    "duration": 182,
    "start_time": "2024-08-13T04:01:15.620Z"
   },
   {
    "duration": 242,
    "start_time": "2024-08-13T04:01:15.813Z"
   },
   {
    "duration": 20,
    "start_time": "2024-08-13T04:01:16.058Z"
   },
   {
    "duration": 40,
    "start_time": "2024-08-13T04:01:16.081Z"
   },
   {
    "duration": 123,
    "start_time": "2024-08-13T04:01:16.125Z"
   },
   {
    "duration": 217,
    "start_time": "2024-08-13T04:01:16.251Z"
   },
   {
    "duration": 397,
    "start_time": "2024-08-13T04:01:16.471Z"
   },
   {
    "duration": 15,
    "start_time": "2024-08-13T04:01:16.871Z"
   },
   {
    "duration": 29,
    "start_time": "2024-08-13T04:01:16.892Z"
   },
   {
    "duration": 30,
    "start_time": "2024-08-13T04:01:16.924Z"
   },
   {
    "duration": 137,
    "start_time": "2024-08-13T04:01:16.957Z"
   },
   {
    "duration": 20,
    "start_time": "2024-08-13T04:01:17.111Z"
   },
   {
    "duration": 6,
    "start_time": "2024-08-13T04:01:17.134Z"
   },
   {
    "duration": 455,
    "start_time": "2024-08-13T04:01:17.143Z"
   },
   {
    "duration": 228,
    "start_time": "2024-08-13T04:01:17.601Z"
   },
   {
    "duration": 10,
    "start_time": "2024-08-13T04:01:17.832Z"
   },
   {
    "duration": 771,
    "start_time": "2024-08-13T04:01:17.845Z"
   },
   {
    "duration": 0,
    "start_time": "2024-08-13T04:01:18.619Z"
   },
   {
    "duration": 0,
    "start_time": "2024-08-13T04:01:18.622Z"
   },
   {
    "duration": 0,
    "start_time": "2024-08-13T04:01:18.625Z"
   },
   {
    "duration": 0,
    "start_time": "2024-08-13T04:01:18.628Z"
   },
   {
    "duration": 0,
    "start_time": "2024-08-13T04:01:18.631Z"
   },
   {
    "duration": 0,
    "start_time": "2024-08-13T04:01:18.633Z"
   },
   {
    "duration": 0,
    "start_time": "2024-08-13T04:01:18.634Z"
   },
   {
    "duration": 918,
    "start_time": "2024-08-13T04:03:03.354Z"
   },
   {
    "duration": 110,
    "start_time": "2024-08-13T04:04:22.663Z"
   },
   {
    "duration": 106,
    "start_time": "2024-08-13T04:04:38.529Z"
   },
   {
    "duration": 9,
    "start_time": "2024-08-13T04:05:49.994Z"
   },
   {
    "duration": 109,
    "start_time": "2024-08-13T04:05:53.962Z"
   },
   {
    "duration": 31,
    "start_time": "2024-08-13T04:06:31.174Z"
   },
   {
    "duration": 31,
    "start_time": "2024-08-13T04:07:22.340Z"
   },
   {
    "duration": 33,
    "start_time": "2024-08-13T04:09:26.158Z"
   },
   {
    "duration": 462,
    "start_time": "2024-08-13T04:13:15.223Z"
   },
   {
    "duration": 318,
    "start_time": "2024-08-13T14:53:25.948Z"
   },
   {
    "duration": 35,
    "start_time": "2024-08-13T15:00:35.459Z"
   },
   {
    "duration": 38,
    "start_time": "2024-08-13T15:02:09.791Z"
   },
   {
    "duration": 31,
    "start_time": "2024-08-13T15:03:31.898Z"
   },
   {
    "duration": 4877,
    "start_time": "2024-08-13T15:11:36.514Z"
   },
   {
    "duration": 742,
    "start_time": "2024-08-13T15:11:41.395Z"
   },
   {
    "duration": 17,
    "start_time": "2024-08-13T15:11:42.140Z"
   },
   {
    "duration": 116,
    "start_time": "2024-08-13T15:11:42.161Z"
   },
   {
    "duration": 335,
    "start_time": "2024-08-13T15:11:42.280Z"
   },
   {
    "duration": 190,
    "start_time": "2024-08-13T15:11:42.618Z"
   },
   {
    "duration": 6,
    "start_time": "2024-08-13T15:11:42.811Z"
   },
   {
    "duration": 17,
    "start_time": "2024-08-13T15:11:42.820Z"
   },
   {
    "duration": 24,
    "start_time": "2024-08-13T15:11:42.841Z"
   },
   {
    "duration": 70,
    "start_time": "2024-08-13T15:11:42.870Z"
   },
   {
    "duration": 23,
    "start_time": "2024-08-13T15:11:42.944Z"
   },
   {
    "duration": 39,
    "start_time": "2024-08-13T15:11:42.969Z"
   },
   {
    "duration": 21,
    "start_time": "2024-08-13T15:11:43.011Z"
   },
   {
    "duration": 11,
    "start_time": "2024-08-13T15:11:43.034Z"
   },
   {
    "duration": 195,
    "start_time": "2024-08-13T15:11:43.048Z"
   },
   {
    "duration": 242,
    "start_time": "2024-08-13T15:11:43.246Z"
   },
   {
    "duration": 29,
    "start_time": "2024-08-13T15:11:43.492Z"
   },
   {
    "duration": 19,
    "start_time": "2024-08-13T15:11:43.527Z"
   },
   {
    "duration": 118,
    "start_time": "2024-08-13T15:11:43.550Z"
   },
   {
    "duration": 211,
    "start_time": "2024-08-13T15:11:43.671Z"
   },
   {
    "duration": 399,
    "start_time": "2024-08-13T15:11:43.885Z"
   },
   {
    "duration": 26,
    "start_time": "2024-08-13T15:11:44.287Z"
   },
   {
    "duration": 13,
    "start_time": "2024-08-13T15:11:44.316Z"
   },
   {
    "duration": 29,
    "start_time": "2024-08-13T15:11:44.332Z"
   },
   {
    "duration": 128,
    "start_time": "2024-08-13T15:11:44.363Z"
   },
   {
    "duration": 32,
    "start_time": "2024-08-13T15:11:44.494Z"
   },
   {
    "duration": 5,
    "start_time": "2024-08-13T15:11:44.529Z"
   },
   {
    "duration": 459,
    "start_time": "2024-08-13T15:11:44.541Z"
   },
   {
    "duration": 224,
    "start_time": "2024-08-13T15:11:45.002Z"
   },
   {
    "duration": 9,
    "start_time": "2024-08-13T15:11:45.232Z"
   },
   {
    "duration": 482,
    "start_time": "2024-08-13T15:11:45.244Z"
   },
   {
    "duration": 141,
    "start_time": "2024-08-13T15:14:30.874Z"
   },
   {
    "duration": 4,
    "start_time": "2024-08-13T15:16:12.376Z"
   },
   {
    "duration": 1247,
    "start_time": "2024-08-13T15:42:24.940Z"
   },
   {
    "duration": 610,
    "start_time": "2024-08-13T15:42:26.190Z"
   },
   {
    "duration": 23,
    "start_time": "2024-08-13T15:42:26.802Z"
   },
   {
    "duration": 121,
    "start_time": "2024-08-13T15:42:26.828Z"
   },
   {
    "duration": 355,
    "start_time": "2024-08-13T15:42:26.953Z"
   },
   {
    "duration": 200,
    "start_time": "2024-08-13T15:42:27.312Z"
   },
   {
    "duration": 57,
    "start_time": "2024-08-13T15:42:27.515Z"
   },
   {
    "duration": 6,
    "start_time": "2024-08-13T15:42:27.575Z"
   },
   {
    "duration": 36,
    "start_time": "2024-08-13T15:42:27.584Z"
   },
   {
    "duration": 24,
    "start_time": "2024-08-13T15:42:27.624Z"
   },
   {
    "duration": 65,
    "start_time": "2024-08-13T15:42:27.650Z"
   },
   {
    "duration": 21,
    "start_time": "2024-08-13T15:42:27.718Z"
   },
   {
    "duration": 8,
    "start_time": "2024-08-13T15:42:27.741Z"
   },
   {
    "duration": 52,
    "start_time": "2024-08-13T15:42:27.756Z"
   },
   {
    "duration": 10,
    "start_time": "2024-08-13T15:42:27.812Z"
   },
   {
    "duration": 196,
    "start_time": "2024-08-13T15:42:27.825Z"
   },
   {
    "duration": 252,
    "start_time": "2024-08-13T15:42:28.024Z"
   },
   {
    "duration": 33,
    "start_time": "2024-08-13T15:42:28.279Z"
   },
   {
    "duration": 20,
    "start_time": "2024-08-13T15:42:28.315Z"
   },
   {
    "duration": 121,
    "start_time": "2024-08-13T15:42:28.338Z"
   },
   {
    "duration": 215,
    "start_time": "2024-08-13T15:42:28.462Z"
   },
   {
    "duration": 388,
    "start_time": "2024-08-13T15:42:28.680Z"
   },
   {
    "duration": 13,
    "start_time": "2024-08-13T15:42:29.071Z"
   },
   {
    "duration": 33,
    "start_time": "2024-08-13T15:42:29.087Z"
   },
   {
    "duration": 31,
    "start_time": "2024-08-13T15:42:29.123Z"
   },
   {
    "duration": 127,
    "start_time": "2024-08-13T15:42:29.157Z"
   },
   {
    "duration": 32,
    "start_time": "2024-08-13T15:42:29.287Z"
   },
   {
    "duration": 6,
    "start_time": "2024-08-13T15:42:29.322Z"
   },
   {
    "duration": 428,
    "start_time": "2024-08-13T15:42:29.332Z"
   },
   {
    "duration": 206,
    "start_time": "2024-08-13T15:42:29.762Z"
   },
   {
    "duration": 9,
    "start_time": "2024-08-13T15:42:29.970Z"
   },
   {
    "duration": 540,
    "start_time": "2024-08-13T15:42:29.982Z"
   },
   {
    "duration": 418,
    "start_time": "2024-08-13T15:44:12.212Z"
   },
   {
    "duration": 1271,
    "start_time": "2024-08-13T15:56:17.530Z"
   },
   {
    "duration": 606,
    "start_time": "2024-08-13T15:56:18.808Z"
   },
   {
    "duration": 17,
    "start_time": "2024-08-13T15:56:19.417Z"
   },
   {
    "duration": 122,
    "start_time": "2024-08-13T15:56:19.438Z"
   },
   {
    "duration": 339,
    "start_time": "2024-08-13T15:56:19.563Z"
   },
   {
    "duration": 187,
    "start_time": "2024-08-13T15:56:19.909Z"
   },
   {
    "duration": 52,
    "start_time": "2024-08-13T15:56:20.108Z"
   },
   {
    "duration": 5,
    "start_time": "2024-08-13T15:56:20.164Z"
   },
   {
    "duration": 37,
    "start_time": "2024-08-13T15:56:20.172Z"
   },
   {
    "duration": 24,
    "start_time": "2024-08-13T15:56:20.215Z"
   },
   {
    "duration": 26,
    "start_time": "2024-08-13T15:56:20.243Z"
   },
   {
    "duration": 55,
    "start_time": "2024-08-13T15:56:20.272Z"
   },
   {
    "duration": 8,
    "start_time": "2024-08-13T15:56:20.330Z"
   },
   {
    "duration": 22,
    "start_time": "2024-08-13T15:56:20.341Z"
   },
   {
    "duration": 47,
    "start_time": "2024-08-13T15:56:20.366Z"
   },
   {
    "duration": 177,
    "start_time": "2024-08-13T15:56:20.416Z"
   },
   {
    "duration": 260,
    "start_time": "2024-08-13T15:56:20.596Z"
   },
   {
    "duration": 20,
    "start_time": "2024-08-13T15:56:20.859Z"
   },
   {
    "duration": 32,
    "start_time": "2024-08-13T15:56:20.884Z"
   },
   {
    "duration": 116,
    "start_time": "2024-08-13T15:56:20.919Z"
   },
   {
    "duration": 213,
    "start_time": "2024-08-13T15:56:21.038Z"
   },
   {
    "duration": 375,
    "start_time": "2024-08-13T15:56:21.254Z"
   },
   {
    "duration": 14,
    "start_time": "2024-08-13T15:56:21.632Z"
   },
   {
    "duration": 12,
    "start_time": "2024-08-13T15:56:21.649Z"
   },
   {
    "duration": 64,
    "start_time": "2024-08-13T15:56:21.664Z"
   },
   {
    "duration": 116,
    "start_time": "2024-08-13T15:56:21.732Z"
   },
   {
    "duration": 22,
    "start_time": "2024-08-13T15:56:21.851Z"
   },
   {
    "duration": 27,
    "start_time": "2024-08-13T15:56:21.881Z"
   },
   {
    "duration": 411,
    "start_time": "2024-08-13T15:56:21.912Z"
   },
   {
    "duration": 6,
    "start_time": "2024-08-13T15:56:22.329Z"
   },
   {
    "duration": 0,
    "start_time": "2024-08-13T15:56:22.338Z"
   },
   {
    "duration": 0,
    "start_time": "2024-08-13T15:56:22.340Z"
   },
   {
    "duration": 0,
    "start_time": "2024-08-13T15:56:22.343Z"
   },
   {
    "duration": 0,
    "start_time": "2024-08-13T15:56:22.346Z"
   },
   {
    "duration": 0,
    "start_time": "2024-08-13T15:56:22.348Z"
   },
   {
    "duration": 204,
    "start_time": "2024-08-13T15:56:54.687Z"
   },
   {
    "duration": 8,
    "start_time": "2024-08-13T15:56:57.525Z"
   },
   {
    "duration": 9,
    "start_time": "2024-08-13T15:57:01.581Z"
   },
   {
    "duration": 17,
    "start_time": "2024-08-13T15:57:16.910Z"
   },
   {
    "duration": 24,
    "start_time": "2024-08-13T15:58:43.449Z"
   },
   {
    "duration": 13,
    "start_time": "2024-08-13T16:03:31.157Z"
   },
   {
    "duration": 35,
    "start_time": "2024-08-13T16:03:53.164Z"
   },
   {
    "duration": 1635,
    "start_time": "2024-08-13T16:06:08.246Z"
   },
   {
    "duration": 405,
    "start_time": "2024-08-13T16:11:57.769Z"
   },
   {
    "duration": 189,
    "start_time": "2024-08-13T16:11:59.482Z"
   },
   {
    "duration": 1235,
    "start_time": "2024-08-13T16:14:47.925Z"
   },
   {
    "duration": 608,
    "start_time": "2024-08-13T16:14:49.164Z"
   },
   {
    "duration": 18,
    "start_time": "2024-08-13T16:14:49.775Z"
   },
   {
    "duration": 105,
    "start_time": "2024-08-13T16:14:49.808Z"
   },
   {
    "duration": 335,
    "start_time": "2024-08-13T16:14:49.917Z"
   },
   {
    "duration": 188,
    "start_time": "2024-08-13T16:14:50.255Z"
   },
   {
    "duration": 67,
    "start_time": "2024-08-13T16:14:50.446Z"
   },
   {
    "duration": 6,
    "start_time": "2024-08-13T16:14:50.515Z"
   },
   {
    "duration": 18,
    "start_time": "2024-08-13T16:14:50.525Z"
   },
   {
    "duration": 23,
    "start_time": "2024-08-13T16:14:50.546Z"
   },
   {
    "duration": 34,
    "start_time": "2024-08-13T16:14:50.608Z"
   },
   {
    "duration": 22,
    "start_time": "2024-08-13T16:14:50.645Z"
   },
   {
    "duration": 38,
    "start_time": "2024-08-13T16:14:50.671Z"
   },
   {
    "duration": 21,
    "start_time": "2024-08-13T16:14:50.715Z"
   },
   {
    "duration": 10,
    "start_time": "2024-08-13T16:14:50.739Z"
   },
   {
    "duration": 195,
    "start_time": "2024-08-13T16:14:50.752Z"
   },
   {
    "duration": 244,
    "start_time": "2024-08-13T16:14:50.950Z"
   },
   {
    "duration": 24,
    "start_time": "2024-08-13T16:14:51.197Z"
   },
   {
    "duration": 20,
    "start_time": "2024-08-13T16:14:51.225Z"
   },
   {
    "duration": 133,
    "start_time": "2024-08-13T16:14:51.249Z"
   },
   {
    "duration": 204,
    "start_time": "2024-08-13T16:14:51.388Z"
   },
   {
    "duration": 385,
    "start_time": "2024-08-13T16:14:51.608Z"
   },
   {
    "duration": 21,
    "start_time": "2024-08-13T16:14:51.996Z"
   },
   {
    "duration": 13,
    "start_time": "2024-08-13T16:14:52.020Z"
   },
   {
    "duration": 29,
    "start_time": "2024-08-13T16:14:52.036Z"
   },
   {
    "duration": 128,
    "start_time": "2024-08-13T16:14:52.069Z"
   },
   {
    "duration": 18,
    "start_time": "2024-08-13T16:14:52.209Z"
   },
   {
    "duration": 4,
    "start_time": "2024-08-13T16:14:52.231Z"
   },
   {
    "duration": 4,
    "start_time": "2024-08-13T16:14:52.238Z"
   },
   {
    "duration": 669,
    "start_time": "2024-08-13T16:14:52.246Z"
   },
   {
    "duration": 527,
    "start_time": "2024-08-13T16:14:52.917Z"
   },
   {
    "duration": 1731,
    "start_time": "2024-08-13T16:17:35.979Z"
   },
   {
    "duration": 600,
    "start_time": "2024-08-13T16:19:32.129Z"
   },
   {
    "duration": 1284,
    "start_time": "2024-08-13T16:27:57.386Z"
   },
   {
    "duration": 611,
    "start_time": "2024-08-13T16:27:58.673Z"
   },
   {
    "duration": 26,
    "start_time": "2024-08-13T16:27:59.286Z"
   },
   {
    "duration": 115,
    "start_time": "2024-08-13T16:27:59.315Z"
   },
   {
    "duration": 337,
    "start_time": "2024-08-13T16:27:59.434Z"
   },
   {
    "duration": 190,
    "start_time": "2024-08-13T16:27:59.774Z"
   },
   {
    "duration": 67,
    "start_time": "2024-08-13T16:27:59.966Z"
   },
   {
    "duration": 6,
    "start_time": "2024-08-13T16:28:00.036Z"
   },
   {
    "duration": 17,
    "start_time": "2024-08-13T16:28:00.045Z"
   },
   {
    "duration": 56,
    "start_time": "2024-08-13T16:28:00.066Z"
   },
   {
    "duration": 27,
    "start_time": "2024-08-13T16:28:00.125Z"
   },
   {
    "duration": 21,
    "start_time": "2024-08-13T16:28:00.154Z"
   },
   {
    "duration": 37,
    "start_time": "2024-08-13T16:28:00.177Z"
   },
   {
    "duration": 21,
    "start_time": "2024-08-13T16:28:00.220Z"
   },
   {
    "duration": 11,
    "start_time": "2024-08-13T16:28:00.245Z"
   },
   {
    "duration": 213,
    "start_time": "2024-08-13T16:28:00.259Z"
   },
   {
    "duration": 244,
    "start_time": "2024-08-13T16:28:00.476Z"
   },
   {
    "duration": 21,
    "start_time": "2024-08-13T16:28:00.724Z"
   },
   {
    "duration": 20,
    "start_time": "2024-08-13T16:28:00.747Z"
   },
   {
    "duration": 128,
    "start_time": "2024-08-13T16:28:00.770Z"
   },
   {
    "duration": 215,
    "start_time": "2024-08-13T16:28:00.909Z"
   },
   {
    "duration": 399,
    "start_time": "2024-08-13T16:28:01.127Z"
   },
   {
    "duration": 14,
    "start_time": "2024-08-13T16:28:01.529Z"
   },
   {
    "duration": 13,
    "start_time": "2024-08-13T16:28:01.546Z"
   },
   {
    "duration": 67,
    "start_time": "2024-08-13T16:28:01.563Z"
   },
   {
    "duration": 110,
    "start_time": "2024-08-13T16:28:01.633Z"
   },
   {
    "duration": 18,
    "start_time": "2024-08-13T16:28:01.746Z"
   },
   {
    "duration": 5,
    "start_time": "2024-08-13T16:28:01.767Z"
   },
   {
    "duration": 669,
    "start_time": "2024-08-13T16:28:01.775Z"
   },
   {
    "duration": 544,
    "start_time": "2024-08-13T16:28:02.447Z"
   },
   {
    "duration": 321,
    "start_time": "2024-08-14T11:32:39.617Z"
   },
   {
    "duration": 5063,
    "start_time": "2024-08-14T11:32:45.487Z"
   },
   {
    "duration": 761,
    "start_time": "2024-08-14T11:32:50.554Z"
   },
   {
    "duration": 19,
    "start_time": "2024-08-14T11:32:51.318Z"
   },
   {
    "duration": 128,
    "start_time": "2024-08-14T11:32:51.341Z"
   },
   {
    "duration": 386,
    "start_time": "2024-08-14T11:32:51.473Z"
   },
   {
    "duration": 188,
    "start_time": "2024-08-14T11:32:51.862Z"
   },
   {
    "duration": 117,
    "start_time": "2024-08-14T11:32:57.121Z"
   },
   {
    "duration": 59,
    "start_time": "2024-08-14T11:33:00.710Z"
   },
   {
    "duration": 5,
    "start_time": "2024-08-14T11:33:02.850Z"
   },
   {
    "duration": 6,
    "start_time": "2024-08-14T11:33:39.967Z"
   },
   {
    "duration": 5,
    "start_time": "2024-08-14T11:33:47.622Z"
   },
   {
    "duration": 5,
    "start_time": "2024-08-14T11:33:53.154Z"
   },
   {
    "duration": 17,
    "start_time": "2024-08-14T11:34:26.876Z"
   },
   {
    "duration": 17,
    "start_time": "2024-08-14T11:34:37.082Z"
   },
   {
    "duration": 13,
    "start_time": "2024-08-14T11:36:20.194Z"
   },
   {
    "duration": 36,
    "start_time": "2024-08-14T11:36:26.444Z"
   },
   {
    "duration": 20,
    "start_time": "2024-08-14T11:36:28.946Z"
   },
   {
    "duration": 46,
    "start_time": "2024-08-14T11:36:52.284Z"
   },
   {
    "duration": 34,
    "start_time": "2024-08-14T11:37:16.038Z"
   },
   {
    "duration": 41,
    "start_time": "2024-08-14T11:39:34.261Z"
   },
   {
    "duration": 33,
    "start_time": "2024-08-14T11:39:38.572Z"
   },
   {
    "duration": 26,
    "start_time": "2024-08-14T11:40:29.321Z"
   },
   {
    "duration": 21,
    "start_time": "2024-08-14T11:40:52.815Z"
   },
   {
    "duration": 34,
    "start_time": "2024-08-14T11:41:00.345Z"
   },
   {
    "duration": 38,
    "start_time": "2024-08-14T11:43:19.195Z"
   },
   {
    "duration": 38,
    "start_time": "2024-08-14T11:44:21.446Z"
   },
   {
    "duration": 39,
    "start_time": "2024-08-14T11:44:35.085Z"
   },
   {
    "duration": 6,
    "start_time": "2024-08-14T11:44:55.199Z"
   },
   {
    "duration": 309,
    "start_time": "2024-08-14T22:23:44.025Z"
   },
   {
    "duration": 22,
    "start_time": "2024-08-14T22:24:08.303Z"
   },
   {
    "duration": 4905,
    "start_time": "2024-08-14T22:24:19.744Z"
   },
   {
    "duration": 677,
    "start_time": "2024-08-14T22:24:24.654Z"
   },
   {
    "duration": 17,
    "start_time": "2024-08-14T22:24:25.334Z"
   },
   {
    "duration": 122,
    "start_time": "2024-08-14T22:24:25.355Z"
   },
   {
    "duration": 351,
    "start_time": "2024-08-14T22:24:25.481Z"
   },
   {
    "duration": 195,
    "start_time": "2024-08-14T22:24:25.835Z"
   },
   {
    "duration": 55,
    "start_time": "2024-08-14T22:24:26.033Z"
   },
   {
    "duration": 5,
    "start_time": "2024-08-14T22:24:26.091Z"
   },
   {
    "duration": 59,
    "start_time": "2024-08-14T22:24:26.100Z"
   },
   {
    "duration": 1231,
    "start_time": "2024-08-14T22:24:26.163Z"
   },
   {
    "duration": 0,
    "start_time": "2024-08-14T22:24:27.398Z"
   },
   {
    "duration": 0,
    "start_time": "2024-08-14T22:24:27.400Z"
   },
   {
    "duration": 0,
    "start_time": "2024-08-14T22:24:27.402Z"
   },
   {
    "duration": 0,
    "start_time": "2024-08-14T22:24:27.404Z"
   },
   {
    "duration": 1,
    "start_time": "2024-08-14T22:24:27.407Z"
   },
   {
    "duration": 0,
    "start_time": "2024-08-14T22:24:27.409Z"
   },
   {
    "duration": 0,
    "start_time": "2024-08-14T22:24:27.431Z"
   },
   {
    "duration": 0,
    "start_time": "2024-08-14T22:24:27.434Z"
   },
   {
    "duration": 0,
    "start_time": "2024-08-14T22:24:27.436Z"
   },
   {
    "duration": 0,
    "start_time": "2024-08-14T22:24:27.438Z"
   },
   {
    "duration": 0,
    "start_time": "2024-08-14T22:24:27.441Z"
   },
   {
    "duration": 0,
    "start_time": "2024-08-14T22:24:27.446Z"
   },
   {
    "duration": 0,
    "start_time": "2024-08-14T22:24:27.447Z"
   },
   {
    "duration": 0,
    "start_time": "2024-08-14T22:24:27.449Z"
   },
   {
    "duration": 0,
    "start_time": "2024-08-14T22:24:27.452Z"
   },
   {
    "duration": 0,
    "start_time": "2024-08-14T22:24:27.456Z"
   },
   {
    "duration": 0,
    "start_time": "2024-08-14T22:24:27.458Z"
   },
   {
    "duration": 0,
    "start_time": "2024-08-14T22:24:27.462Z"
   },
   {
    "duration": 0,
    "start_time": "2024-08-14T22:24:27.465Z"
   },
   {
    "duration": 0,
    "start_time": "2024-08-14T22:24:27.467Z"
   },
   {
    "duration": 0,
    "start_time": "2024-08-14T22:24:27.470Z"
   },
   {
    "duration": 0,
    "start_time": "2024-08-14T22:24:27.531Z"
   },
   {
    "duration": 0,
    "start_time": "2024-08-14T22:24:27.532Z"
   },
   {
    "duration": 6,
    "start_time": "2024-08-14T22:26:55.552Z"
   },
   {
    "duration": 88,
    "start_time": "2024-08-14T22:27:23.195Z"
   },
   {
    "duration": 4,
    "start_time": "2024-08-14T22:30:26.853Z"
   },
   {
    "duration": 7,
    "start_time": "2024-08-14T22:31:21.171Z"
   }
  ],
  "kernelspec": {
   "display_name": "Python 3 (ipykernel)",
   "language": "python",
   "name": "python3"
  },
  "language_info": {
   "codemirror_mode": {
    "name": "ipython",
    "version": 3
   },
   "file_extension": ".py",
   "mimetype": "text/x-python",
   "name": "python",
   "nbconvert_exporter": "python",
   "pygments_lexer": "ipython3",
   "version": "3.9.19"
  },
  "toc": {
   "base_numbering": 1,
   "nav_menu": {},
   "number_sections": true,
   "sideBar": true,
   "skip_h1_title": true,
   "title_cell": "Table of Contents",
   "title_sidebar": "Contents",
   "toc_cell": false,
   "toc_position": {
    "height": "calc(100% - 180px)",
    "left": "10px",
    "top": "150px",
    "width": "395.267px"
   },
   "toc_section_display": true,
   "toc_window_display": false
  }
 },
 "nbformat": 4,
 "nbformat_minor": 2
}
